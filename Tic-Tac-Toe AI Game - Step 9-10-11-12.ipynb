{
 "cells": [
  {
   "cell_type": "markdown",
   "metadata": {},
   "source": [
    "# Tic-Tac-Toe AI Game Project"
   ]
  },
  {
   "cell_type": "markdown",
   "metadata": {},
   "source": [
    "Tic-Tac-Toe is normally played with two people. One player is <b>X</b> and the other player is <b>O</b>. Players take turns placing their <b>X</b> or <b>O</b>. If a player gets three of their marks on the board in a row, column, or diagonal, they win. When the game board fills up with neither player winning, the game ends in a draw."
   ]
  },
  {
   "cell_type": "code",
   "execution_count": 1,
   "metadata": {},
   "outputs": [],
   "source": [
    "# Tic-Tac-Toe\n",
    "\n",
    "import random \n",
    "\n",
    "def drawGameBoard(board):\n",
    "    # This function prints out the game board that it was passed.\n",
    "    \n",
    "    '''\"board\" is a list of 10 strings representing the board (ignore index 0).'''\n",
    "    print(f' {board[7]} | {board[8]} | {board[9]}')\n",
    "    print('---+---+---')\n",
    "    print(f' {board[4]} | {board[5]} | {board[6]}')\n",
    "    print('---+---+---')\n",
    "    print(f' {board[1]} | {board[2]} | {board[3]}')\n",
    "    \n",
    "def inputPlayerLetter():\n",
    "    # Lets the player enter which letter they want to be.\n",
    "    '''Returns a list with the player's letter as the first item and the computer's letter as the second.'''\n",
    "    letter = ''\n",
    "    while not (letter == 'X' or letter == 'O'):\n",
    "        print('Do you want to be X or O?')\n",
    "        letter = input().upper()\n",
    "        \n",
    "    # The first element in the list is the player's letter; the second is the computer's letter.\n",
    "    if letter == 'X':\n",
    "        return ['X', 'O']\n",
    "    else:\n",
    "        return ['O', 'X']\n",
    "    \n",
    "def whoGoesFirst():\n",
    "    # Randomly choose which player goes first.\n",
    "    if random.randint(0, 1) == 0:\n",
    "        return 'computer'\n",
    "    else:\n",
    "        return 'player'\n",
    "\n",
    "def makeMove(board, letter, move):\n",
    "    board[move] = letter \n",
    "    \n",
    "def isWinner(bo, le):\n",
    "    # Given a board and a player's letter, this function returns True if that player has won. \n",
    "    # We use \"bo\" instead of \"board\" and \"le\" instead of \"letter\" so we don't have to type as much.\n",
    "    return ((bo[7] == le and bo[8] == le and bo[9] == le) or # Across the top\n",
    "            (bo[4] == le and bo[5] == le and bo[6] == le) or # Across the middle\n",
    "            (bo[1] == le and bo[2] == le and bo[3] == le) or # Across the bottom\n",
    "            (bo[7] == le and bo[4] == le and bo[1] == le) or # Down the left side\n",
    "            (bo[8] == le and bo[5] == le and bo[2] == le) or # Down the middle\n",
    "            (bo[9] == le and bo[6] == le and bo[3] == le) or # Down the right\n",
    "            (bo[7] == le and bo[5] == le and bo[3] == le) or # Diagonal\n",
    "            (bo[9] == le and bo[5] == le and bo[1] == le))   # Diagonal\n",
    "\n",
    "def isSpaceFree(board, move):\n",
    "    # Return True if the passed move is free on the passed board.\n",
    "    return board[move] == ' '\n",
    "\n",
    "def isGameBoardFull(board):\n",
    "    # Return True if every space on the game board has been taken. Otherwise, return False.\n",
    "    for i in range(1, 10):\n",
    "        if isSpaceFree(board, i):\n",
    "            return False  \n",
    "    return True\n",
    "\n",
    "def getPlayerMove(board):\n",
    "    # Let the player enter their move.\n",
    "    move = ' '\n",
    "    while move not in '1 2 3 4 5 6 7 8 9'.split() or not isSpaceFree(board, int(move)):\n",
    "        print('What is your next move - (1-9)') \n",
    "        move = input()  \n",
    "    return int(move)"
   ]
  },
  {
   "cell_type": "markdown",
   "metadata": {},
   "source": [
    "# Step 9 - Duplicating the Board Data "
   ]
  },
  {
   "cell_type": "markdown",
   "metadata": {},
   "source": [
    "The <code>getBoardCopy()</code> function allows you to easily make a copy of a given 10-string list that represents a Tic-Tac-Toe board in the game."
   ]
  },
  {
   "cell_type": "code",
   "execution_count": 2,
   "metadata": {},
   "outputs": [],
   "source": [
    "def getBoardCopy(board):\n",
    "    # Make a copy of the board list and return it.\n",
    "    boardCopy = []\n",
    "    for v in board:\n",
    "        boardCopy.append(v)\n",
    "    return boardCopy"
   ]
  },
  {
   "cell_type": "markdown",
   "metadata": {},
   "source": [
    "When the AI algorithm is planning its moves, it will sometimes need to make modifications to a temporary copy of the board without changing the actual board. In those cases, we call this function to make a copy of the board’s list. The new list is created <code>boardCopy = []</code>. \n",
    "\n",
    "Right now, the list stored in <code>boardCopy</code> is just an empty list. The <code>for</code> loop will iterate over the <code>board</code> parameter, appending a copy of the string values in the actual board to the duplicate board. After the <code>getBoardCopy()</code> function builds up a copy of the actual board, it returns a reference to this new board in <code>boardCopy</code>, not to the original one in <code>board</code>."
   ]
  },
  {
   "cell_type": "code",
   "execution_count": 3,
   "metadata": {},
   "outputs": [],
   "source": [
    "theGameBoard = [' ', 'O', ' ', 'O', 'O', 'X', 'X', 'X', 'O', 'X']"
   ]
  },
  {
   "cell_type": "code",
   "execution_count": 4,
   "metadata": {},
   "outputs": [],
   "source": [
    "boardCopy = getBoardCopy(theGameBoard)"
   ]
  },
  {
   "cell_type": "code",
   "execution_count": 5,
   "metadata": {},
   "outputs": [],
   "source": [
    "boardCopy[1] = 'X' "
   ]
  },
  {
   "cell_type": "code",
   "execution_count": 6,
   "metadata": {},
   "outputs": [
    {
     "data": {
      "text/plain": [
       "[' ', 'X', ' ', 'O', 'O', 'X', 'X', 'X', 'O', 'X']"
      ]
     },
     "execution_count": 6,
     "metadata": {},
     "output_type": "execute_result"
    }
   ],
   "source": [
    "boardCopy"
   ]
  },
  {
   "cell_type": "code",
   "execution_count": 7,
   "metadata": {},
   "outputs": [
    {
     "data": {
      "text/plain": [
       "[' ', 'O', ' ', 'O', 'O', 'X', 'X', 'X', 'O', 'X']"
      ]
     },
     "execution_count": 7,
     "metadata": {},
     "output_type": "execute_result"
    }
   ],
   "source": [
    "theGameBoard # not change "
   ]
  },
  {
   "cell_type": "markdown",
   "metadata": {},
   "source": [
    "# Step 10 - Choosing a Move from a List of Moves"
   ]
  },
  {
   "cell_type": "markdown",
   "metadata": {},
   "source": [
    "Now let’s look at the <code>chooseRandomMoveFromList()</code> function, which is useful for the AI code later in the Step 11:"
   ]
  },
  {
   "cell_type": "code",
   "execution_count": 8,
   "metadata": {},
   "outputs": [],
   "source": [
    "def chooseRandomMoveFromList(board, movesList):\n",
    "    # Returns a valid move from the passed list on the passed board.\n",
    "    # Returns None if there is no valid move.\n",
    "    possibleMoves = []\n",
    "    for i in movesList:\n",
    "        if isSpaceFree(board, i):\n",
    "            possibleMoves.append(i)\n",
    "            \n",
    "    if len(possibleMoves) != 0:\n",
    "        return random.choice(possibleMoves)\n",
    "    else:\n",
    "        return None"
   ]
  },
  {
   "cell_type": "markdown",
   "metadata": {},
   "source": [
    "Remember that the <code>board</code> parameter is a list of strings that represents a Tic-Tac-Toe board. The second parameter, <code>movesList</code>, is a list of integers of possible spaces from which to choose. For example, if <code>movesList</code> is <code>[1, 3, 7, 9]</code>, that means <code>chooseRandomMoveFromList()</code> should return the integer for one of the corner spaces.\n",
    "\n",
    "However, <code>chooseRandomMoveFromList()</code> first checks that the space is valid to make a move on. The <code>possibleMoves</code> list starts as a blank list. The <code>for</code> loop then iterates over <code>movesList</code>. The moves that cause <code>isSpaceFree()</code> to return <code>True</code> are added to <code>possibleMoves</code> with the <code>append()</code> method.\n",
    "\n",
    "At this point, the <code>possibleMoves</code> list has all of the moves that were in <code>movesList</code> that are also free spaces. The program then checks whether the list is empty:"
   ]
  },
  {
   "cell_type": "markdown",
   "metadata": {},
   "source": [
    "If the list isn’t empty, then there’s at least one possible move that can be made on the board."
   ]
  },
  {
   "cell_type": "markdown",
   "metadata": {},
   "source": [
    "But this list could be empty. For example, if <code>movesList</code> was <code>[1, 3, 7, 9]</code> but the board represented by the <code>board</code> parameter had all the corner spaces already taken, the <code>possibleMoves</code> list would be <code>[]</code>. In that case, <code>len(possibleMoves)</code> evaluates to 0, and the function returns the value <code>None</code>."
   ]
  },
  {
   "cell_type": "markdown",
   "metadata": {},
   "source": [
    "## The None Value"
   ]
  },
  {
   "cell_type": "markdown",
   "metadata": {},
   "source": [
    "The <code>None</code> value represents the lack of a value. <code>None</code> is the only value of the data type <code>NoneType</code>. You might use the <code>None</code> value when you need a value that means “does not exist” or “none of the above.”"
   ]
  },
  {
   "cell_type": "markdown",
   "metadata": {},
   "source": [
    "For example, say you had a variable named <code>quizAnswer</code> that holds the user’s answer to some true/false pop quiz question. The variable could hold <code>True</code> or <code>False</code> for the user’s answer. But if the user didn’t answer the question, you wouldn’t want to set <code>quizAnswer</code> to <code>True</code> or <code>False</code>, because then it would look like the user answered the question. Instead, you could set <code>quizAnswer</code> to <code>None</code> if the user skipped the question."
   ]
  },
  {
   "cell_type": "code",
   "execution_count": 9,
   "metadata": {},
   "outputs": [
    {
     "name": "stdout",
     "output_type": "stream",
     "text": [
      "Hi Python\n"
     ]
    }
   ],
   "source": [
    "p = print('Hi Python')"
   ]
  },
  {
   "cell_type": "code",
   "execution_count": 10,
   "metadata": {},
   "outputs": [
    {
     "data": {
      "text/plain": [
       "NoneType"
      ]
     },
     "execution_count": 10,
     "metadata": {},
     "output_type": "execute_result"
    }
   ],
   "source": [
    "type(p)"
   ]
  },
  {
   "cell_type": "code",
   "execution_count": 11,
   "metadata": {},
   "outputs": [
    {
     "data": {
      "text/plain": [
       "True"
      ]
     },
     "execution_count": 11,
     "metadata": {},
     "output_type": "execute_result"
    }
   ],
   "source": [
    "p == None"
   ]
  },
  {
   "cell_type": "markdown",
   "metadata": {},
   "source": [
    "# Step 11 - Creating the Computer’s AI"
   ]
  },
  {
   "cell_type": "markdown",
   "metadata": {},
   "source": [
    "The <code>getComputerMove()</code> function contains the AI’s code:"
   ]
  },
  {
   "cell_type": "code",
   "execution_count": 12,
   "metadata": {},
   "outputs": [],
   "source": [
    "def getComputerMove(board, computerLetter):\n",
    "    # Given a board and the computer's letter, determine where to move and return that move.\n",
    "    if computerLetter == 'X':\n",
    "        playerLetter = 'O'\n",
    "    else:\n",
    "        playerLetter = 'X'\n",
    "\n",
    "    # Here is the algorithm for our Tic-Tac-Toe AI:\n",
    "    # First, check if we can win in the next move.\n",
    "    for i in range(1, 10):\n",
    "        boardCopy = getBoardCopy(board)\n",
    "        if isSpaceFree(boardCopy, i):\n",
    "            makeMove(boardCopy, computerLetter, i)\n",
    "            if isWinner(boardCopy, computerLetter):\n",
    "                return i\n",
    "            \n",
    "    # Check if the player could win on their next move and block them.\n",
    "    for i in range(1, 10):\n",
    "        boardCopy = getBoardCopy(board)\n",
    "        if isSpaceFree(boardCopy, i):\n",
    "            makeMove(boardCopy, playerLetter, i)\n",
    "            if isWinner(boardCopy, playerLetter):\n",
    "                return i\n",
    "            \n",
    "    # Try to take one of the corners, if they are free.\n",
    "    move = chooseRandomMoveFromList(board, [1, 3, 7, 9])\n",
    "    if move != None:\n",
    "        return move \n",
    "    \n",
    "    # Try to take the center, if it is free.\n",
    "    if isSpaceFree(board, 5):\n",
    "        return 5\n",
    "    \n",
    "    # Move on one of the sides.\n",
    "    return chooseRandomMoveFromList(board, [2, 4, 6, 8])"
   ]
  },
  {
   "cell_type": "markdown",
   "metadata": {},
   "source": [
    "The first argument is a Tic-Tac-Toe board for the <code>board</code> parameter. The second argument is the letter the computer uses—either <code>'X'</code> or <code>'O'</code> in the <code>computerLetter</code> parameter. The first few lines simply assign the other letter to a variable named <code>playerLetter</code>. This way, the same code can be used whether the computer is <code>X</code> or <code>O</code>."
   ]
  },
  {
   "cell_type": "markdown",
   "metadata": {},
   "source": [
    "Remember how the Tic-Tac-Toe AI algorithm works:"
   ]
  },
  {
   "cell_type": "markdown",
   "metadata": {},
   "source": [
    "1. See if there’s a move the computer can make that will win the game. If there is, take that move. Otherwise, go to step 2.\n",
    "\n",
    "2. See if there’s a move the player can make that will cause the computer to lose the game. If there is, the computer should move there to block the player. Otherwise, go to step 3.\n",
    "\n",
    "3. Check if any of the corners (spaces 1, 3, 7, or 9) are free. If no corner space is free, go to step 4.\n",
    "\n",
    "4. Check if the center is free. If so, move there. If it isn’t, go to step 5.\n",
    "\n",
    "5. Move on any of the sides (spaces 2, 4, 6, or 8). There are no more steps, because the side spaces are the only spaces left if the execution has reached this step."
   ]
  },
  {
   "cell_type": "markdown",
   "metadata": {},
   "source": [
    "<i>The function will return an integer from 1 to 9 representing the computer’s move. </i>"
   ]
  },
  {
   "cell_type": "markdown",
   "metadata": {},
   "source": [
    "### Checking Whether the Computer Can Win in One Move"
   ]
  },
  {
   "cell_type": "markdown",
   "metadata": {},
   "source": [
    "Before anything else, if the computer can win in the next move, it should make that winning move immediately."
   ]
  },
  {
   "cell_type": "markdown",
   "metadata": {},
   "source": [
    "<code>\n",
    "    # Here is the algorithm for our Tic-Tac-Toe AI:\n",
    "    # First, check if we can win in the next move.\n",
    "    for i in range(1, 10):\n",
    "        boardCopy = getBoardCopy(board)\n",
    "        if isSpaceFree(boardCopy, i):\n",
    "            makeMove(boardCopy, computerLetter, i)\n",
    "            if isWinner(boardCopy, computerLetter):\n",
    "                return i\n",
    "</code>"
   ]
  },
  {
   "cell_type": "markdown",
   "metadata": {},
   "source": [
    "The <code>for</code> loop that starts on line <code>for i in range(1, 10):</code> iterates over every possible move from 1 to 9. The code inside the loop simulates what would happen if the computer made that move. \n",
    "\n",
    "The first line in the loop line <code>boardCopy = getBoardCopy(board)</code> makes a copy of the <code>board</code> list. This is so the simulated move inside the loop doesn’t modify the real Tic-Tac-Toe board stored in the <code>board</code> variable. The <code>getBoardCopy()</code> returns an identical but separate board list value."
   ]
  },
  {
   "cell_type": "markdown",
   "metadata": {},
   "source": [
    "Line <code>if isSpaceFree(boardCopy, i):</code> checks whether the space is free and, if so, simulates making the move on the copy of the board. If this move results in the computer winning, the function returns that move’s integer.\n",
    "\n",
    "If none of the spaces results in winning, the loop ends, and the program execution continues to line 100."
   ]
  },
  {
   "cell_type": "markdown",
   "metadata": {},
   "source": [
    "### Checking Whether the Player Can Win in One Move"
   ]
  },
  {
   "cell_type": "markdown",
   "metadata": {},
   "source": [
    "Next, the code will simulate the human player moving on each of the spaces:"
   ]
  },
  {
   "cell_type": "markdown",
   "metadata": {},
   "source": [
    "<code>\n",
    "    # Check if the player could win on their next move and block them.\n",
    "    for i in range(1, 10):\n",
    "        boardCopy = getBoardCopy(board)\n",
    "        if isSpaceFree(boardCopy, i):\n",
    "            makeMove(boardCopy, playerLetter, i)\n",
    "            if isWinner(boardCopy, playerLetter):\n",
    "                return i\n",
    "</code>"
   ]
  },
  {
   "cell_type": "markdown",
   "metadata": {},
   "source": [
    "The code is similar to the loop on line above except the player’s letter is put on the board copy. If the <code>isWinner()</code> function shows that the player would win with a move, then the computer will return that same move to block this from happening.\n",
    "\n",
    "If the human player cannot win in one more move, the <code>for</code> loop finishes, and the execution continues to next line."
   ]
  },
  {
   "cell_type": "markdown",
   "metadata": {},
   "source": [
    "### Checking the Corner, Center, and Side Spaces (in That Order)"
   ]
  },
  {
   "cell_type": "markdown",
   "metadata": {},
   "source": [
    "If the computer can’t make a winning move and doesn’t need to block the player’s move, it will move to a corner, center, or side space, depending on the spaces available.\n",
    "\n",
    "The computer first tries to move to one of the corner spaces:"
   ]
  },
  {
   "cell_type": "markdown",
   "metadata": {},
   "source": [
    "<code>\n",
    "    # Try to take one of the corners, if they are free.\n",
    "    move = chooseRandomMoveFromList(board, [1, 3, 7, 9])\n",
    "    if move != None:\n",
    "        return move\n",
    "</code>"
   ]
  },
  {
   "cell_type": "markdown",
   "metadata": {},
   "source": [
    "The call to the <code>chooseRandomMoveFromList()</code> function with the list <code>[1, 3, 7, 9]</code> ensures that the function returns the integer for one of the corner spaces: 1, 3, 7, or 9.\n",
    "\n",
    "If all the corner spaces are taken, the <code>chooseRandomMoveFromList()</code> function returns <code>None</code>, and the execution moves on to next line:"
   ]
  },
  {
   "cell_type": "markdown",
   "metadata": {},
   "source": [
    "<code>\n",
    "    # Try to take the center, if it is free.\n",
    "    if isSpaceFree(board, 5):\n",
    "        return 5\n",
    "</code>"
   ]
  },
  {
   "cell_type": "markdown",
   "metadata": {},
   "source": [
    "If none of the corners is available, line <code>return 5</code> moves on the center space if it is free. If the center space isn’t free, the execution moves on to next line:"
   ]
  },
  {
   "cell_type": "markdown",
   "metadata": {},
   "source": [
    "<code>\n",
    "    # Move on one of the sides.\n",
    "    return chooseRandomMoveFromList(board, [2, 4, 6, 8])\n",
    "</code>"
   ]
  },
  {
   "cell_type": "markdown",
   "metadata": {},
   "source": [
    "This code also makes a call to <code>chooseRandomMoveFromList()</code>, except you pass it a list of the side spaces:<code>[2, 4, 6, 8]</code>. This function won’t return <code>None</code> because the side spaces are the only spaces that can possibly be left. This ends the <code>getComputerMove()</code> function and the AI algorithm."
   ]
  },
  {
   "cell_type": "markdown",
   "metadata": {},
   "source": [
    "# Step 12 - Asking the Player to Play Again"
   ]
  },
  {
   "cell_type": "markdown",
   "metadata": {},
   "source": [
    "Finally, the program asks the player if they want to play another game:"
   ]
  },
  {
   "cell_type": "code",
   "execution_count": 13,
   "metadata": {},
   "outputs": [],
   "source": [
    "def playAgain():\n",
    "    print('Do you want to play again? (yes or no)')\n",
    "    return input().lower().startswith('y')  "
   ]
  },
  {
   "cell_type": "code",
   "execution_count": null,
   "metadata": {},
   "outputs": [],
   "source": []
  },
  {
   "cell_type": "code",
   "execution_count": 14,
   "metadata": {},
   "outputs": [
    {
     "name": "stdout",
     "output_type": "stream",
     "text": [
      "Do you want to play again? (yes or no)\n"
     ]
    },
    {
     "name": "stdin",
     "output_type": "stream",
     "text": [
      " Yessss\n"
     ]
    }
   ],
   "source": [
    "res1 = playAgain()"
   ]
  },
  {
   "cell_type": "code",
   "execution_count": 15,
   "metadata": {},
   "outputs": [
    {
     "data": {
      "text/plain": [
       "bool"
      ]
     },
     "execution_count": 15,
     "metadata": {},
     "output_type": "execute_result"
    }
   ],
   "source": [
    "type(res1)"
   ]
  },
  {
   "cell_type": "code",
   "execution_count": 16,
   "metadata": {},
   "outputs": [
    {
     "name": "stdout",
     "output_type": "stream",
     "text": [
      "Do you want to play again? (yes or no)\n"
     ]
    },
    {
     "name": "stdin",
     "output_type": "stream",
     "text": [
      " Noooo\n"
     ]
    }
   ],
   "source": [
    "res2 = playAgain()"
   ]
  },
  {
   "cell_type": "code",
   "execution_count": 17,
   "metadata": {},
   "outputs": [
    {
     "data": {
      "text/plain": [
       "bool"
      ]
     },
     "execution_count": 17,
     "metadata": {},
     "output_type": "execute_result"
    }
   ],
   "source": [
    "type(res2)"
   ]
  },
  {
   "cell_type": "code",
   "execution_count": null,
   "metadata": {},
   "outputs": [],
   "source": []
  },
  {
   "cell_type": "code",
   "execution_count": null,
   "metadata": {},
   "outputs": [],
   "source": []
  },
  {
   "cell_type": "markdown",
   "metadata": {},
   "source": [
    "# Starting the Game ..."
   ]
  },
  {
   "cell_type": "code",
   "execution_count": 18,
   "metadata": {},
   "outputs": [],
   "source": [
    "# Tic-Tac-Toe\n",
    "\n",
    "import random \n",
    "\n",
    "def drawGameBoard(board):\n",
    "    # This function prints out the game board that it was passed.\n",
    "    \n",
    "    '''\"board\" is a list of 10 strings representing the board (ignore index 0).'''\n",
    "    print(f' {board[7]} | {board[8]} | {board[9]}')\n",
    "    print('---+---+---')\n",
    "    print(f' {board[4]} | {board[5]} | {board[6]}')\n",
    "    print('---+---+---')\n",
    "    print(f' {board[1]} | {board[2]} | {board[3]}')\n",
    "    \n",
    "def inputPlayerLetter():\n",
    "    # Lets the player enter which letter they want to be.\n",
    "    '''Returns a list with the player's letter as the first item and the computer's letter as the second.'''\n",
    "    letter = ''\n",
    "    while not (letter == 'X' or letter == 'O'):\n",
    "        print('Do you want to be X or O?')\n",
    "        letter = input().upper()\n",
    "        \n",
    "    # The first element in the list is the player's letter; the second is the computer's letter.\n",
    "    if letter == 'X':\n",
    "        return ['X', 'O']\n",
    "    else:\n",
    "        return ['O', 'X']\n",
    "    \n",
    "def whoGoesFirst():\n",
    "    # Randomly choose which player goes first.\n",
    "    if random.randint(0, 1) == 0:\n",
    "        return 'computer'\n",
    "    else:\n",
    "        return 'player'\n",
    "    \n",
    "def makeMove(board, letter, move):\n",
    "    board[move] = letter \n",
    "    \n",
    "def isWinner(bo, le):\n",
    "    # Given a board and a player's letter, this function returns True if that player has won. \n",
    "    # We use \"bo\" instead of \"board\" and \"le\" instead of \"letter\" so we don't have to type as much.\n",
    "    return ((bo[7] == le and bo[8] == le and bo[9] == le) or # Across the top\n",
    "            (bo[4] == le and bo[5] == le and bo[6] == le) or # Across the middle\n",
    "            (bo[1] == le and bo[2] == le and bo[3] == le) or # Across the bottom\n",
    "            (bo[7] == le and bo[4] == le and bo[1] == le) or # Down the left side\n",
    "            (bo[8] == le and bo[5] == le and bo[2] == le) or # Down the middle\n",
    "            (bo[9] == le and bo[6] == le and bo[3] == le) or # Down the right\n",
    "            (bo[7] == le and bo[5] == le and bo[3] == le) or # Diagonal\n",
    "            (bo[9] == le and bo[5] == le and bo[1] == le))   # Diagonal\n",
    "\n",
    "def isSpaceFree(board, move):\n",
    "    # Return True if the passed move is free on the passed board.\n",
    "    return board[move] == ' '\n",
    "\n",
    "def isGameBoardFull(board):\n",
    "    # Return True if every space on the game board has been taken. Otherwise, return False.\n",
    "    for i in range(1, 10):\n",
    "        if isSpaceFree(board, i):\n",
    "            return False  \n",
    "    return True \n",
    "\n",
    "def getPlayerMove(board):\n",
    "    # Let the player enter their move.\n",
    "    move = ' '\n",
    "    while move not in '1 2 3 4 5 6 7 8 9'.split() or not isSpaceFree(board, int(move)):\n",
    "        print('What is your next move - (1-9)') \n",
    "        move = input()  \n",
    "    return int(move)\n",
    "\n",
    "def getBoardCopy(board):\n",
    "    # Make a copy of the board list and return it.\n",
    "    boardCopy = []\n",
    "    for v in board:\n",
    "        boardCopy.append(v)\n",
    "    return boardCopy\n",
    "\n",
    "def getBoardCopy(board):\n",
    "    # Make a copy of the board list and return it.\n",
    "    boardCopy = []\n",
    "    for v in board:\n",
    "        boardCopy.append(v)\n",
    "    return boardCopy\n",
    "\n",
    "def chooseRandomMoveFromList(board, movesList):\n",
    "    # Returns a valid move from the passed list on the passed board.\n",
    "    # Returns None if there is no valid move.\n",
    "    possibleMoves = []\n",
    "    for i in movesList:\n",
    "        if isSpaceFree(board, i):\n",
    "            possibleMoves.append(i)\n",
    "            \n",
    "    if len(possibleMoves) != 0:\n",
    "        return random.choice(possibleMoves)\n",
    "    else:\n",
    "        return None\n",
    "    \n",
    "def getComputerMove(board, computerLetter):\n",
    "    # Given a board and the computer's letter, determine where to move and return that move.\n",
    "    if computerLetter == 'X':\n",
    "        playerLetter = 'O'\n",
    "    else:\n",
    "        playerLetter = 'X'\n",
    "\n",
    "    # Here is the algorithm for our Tic-Tac-Toe AI:\n",
    "    # First, check if we can win in the next move.\n",
    "    for i in range(1, 10):\n",
    "        boardCopy = getBoardCopy(board)\n",
    "        if isSpaceFree(boardCopy, i):\n",
    "            makeMove(boardCopy, computerLetter, i)\n",
    "            if isWinner(boardCopy, computerLetter):\n",
    "                return i\n",
    "            \n",
    "    # Check if the player could win on their next move and block them.\n",
    "    for i in range(1, 10):\n",
    "        boardCopy = getBoardCopy(board)\n",
    "        if isSpaceFree(boardCopy, i):\n",
    "            makeMove(boardCopy, playerLetter, i)\n",
    "            if isWinner(boardCopy, playerLetter):\n",
    "                return i\n",
    "            \n",
    "    # Try to take one of the corners, if they are free.\n",
    "    move = chooseRandomMoveFromList(board, [1, 3, 7, 9])\n",
    "    if move != None:\n",
    "        return move \n",
    "    \n",
    "    # Try to take the center, if it is free.\n",
    "    if isSpaceFree(board, 5):\n",
    "        return 5\n",
    "    \n",
    "    # Move on one of the sides.\n",
    "    return chooseRandomMoveFromList(board, [2, 4, 6, 8])\n",
    "\n",
    "def playAgain():\n",
    "    print('Do you want to play again? (yes or no)')\n",
    "    return input().lower().startswith('y')  "
   ]
  },
  {
   "cell_type": "markdown",
   "metadata": {},
   "source": [
    "# The Game Loop ..."
   ]
  },
  {
   "cell_type": "code",
   "execution_count": 19,
   "metadata": {},
   "outputs": [
    {
     "name": "stdout",
     "output_type": "stream",
     "text": [
      "Welcome to Tic-Tac-Toe AI Game!\n",
      "Do you want to be X or O?\n"
     ]
    },
    {
     "name": "stdin",
     "output_type": "stream",
     "text": [
      " X\n"
     ]
    },
    {
     "name": "stdout",
     "output_type": "stream",
     "text": [
      "The player will go first.\n",
      "   |   |  \n",
      "---+---+---\n",
      "   |   |  \n",
      "---+---+---\n",
      "   |   |  \n",
      "What is your next move - (1-9)\n"
     ]
    },
    {
     "name": "stdin",
     "output_type": "stream",
     "text": [
      " 7\n"
     ]
    },
    {
     "name": "stdout",
     "output_type": "stream",
     "text": [
      " X |   |  \n",
      "---+---+---\n",
      "   |   |  \n",
      "---+---+---\n",
      " O |   |  \n",
      "What is your next move - (1-9)\n"
     ]
    },
    {
     "name": "stdin",
     "output_type": "stream",
     "text": [
      " 9\n"
     ]
    },
    {
     "name": "stdout",
     "output_type": "stream",
     "text": [
      " X | O | X\n",
      "---+---+---\n",
      "   |   |  \n",
      "---+---+---\n",
      " O |   |  \n",
      "What is your next move - (1-9)\n"
     ]
    },
    {
     "name": "stdin",
     "output_type": "stream",
     "text": [
      " 3\n"
     ]
    },
    {
     "name": "stdout",
     "output_type": "stream",
     "text": [
      " X | O | X\n",
      "---+---+---\n",
      "   | O |  \n",
      "---+---+---\n",
      " O |   | X\n",
      "What is your next move - (1-9)\n"
     ]
    },
    {
     "name": "stdin",
     "output_type": "stream",
     "text": [
      " 6\n"
     ]
    },
    {
     "name": "stdout",
     "output_type": "stream",
     "text": [
      " X | O | X\n",
      "---+---+---\n",
      "   | O | X\n",
      "---+---+---\n",
      " O |   | X\n",
      "You have won the game!\n",
      "Do you want to play again? (yes or no)\n"
     ]
    },
    {
     "name": "stdin",
     "output_type": "stream",
     "text": [
      " Noo\n"
     ]
    }
   ],
   "source": [
    "print('Welcome to Tic-Tac-Toe AI Game!')\n",
    "\n",
    "while True:\n",
    "    # Reset the game board.\n",
    "    theGameBoard = [' '] * 10\n",
    "    playerLetter, computerLetter = inputPlayerLetter()\n",
    "    turn = whoGoesFirst()\n",
    "    print(f'The {turn} will go first.')\n",
    "    gameIsPlaying = True  \n",
    "    \n",
    "    while gameIsPlaying:\n",
    "        if turn == 'player':\n",
    "            # Player's turn \n",
    "            drawGameBoard(theGameBoard)\n",
    "            move = getPlayerMove(theGameBoard)          \n",
    "            makeMove(theGameBoard, playerLetter, move)\n",
    "\n",
    "            if isWinner(theGameBoard, playerLetter):\n",
    "                drawGameBoard(theGameBoard)\n",
    "                print('You have won the game!')\n",
    "                gameIsPlaying = False\n",
    "            else:\n",
    "                if isGameBoardFull(theGameBoard):\n",
    "                    drawGameBoard(theGameBoard)\n",
    "                    print('The game is a tie!')\n",
    "                    break \n",
    "                else:\n",
    "                    turn = 'computer'\n",
    "        else:\n",
    "            # Computer's turn \n",
    "            move = getComputerMove(theGameBoard, computerLetter)          \n",
    "            makeMove(theGameBoard, computerLetter, move)\n",
    "\n",
    "            if isWinner(theGameBoard, computerLetter):\n",
    "                drawGameBoard(theGameBoard)\n",
    "                print('The computer has beaten you! You lose.')\n",
    "                gameIsPlaying = False\n",
    "            else:\n",
    "                if isGameBoardFull(theGameBoard):\n",
    "                    drawGameBoard(theGameBoard)\n",
    "                    print('The game is a tie!')\n",
    "                    break \n",
    "                else:\n",
    "                    turn = 'player'\n",
    "                    \n",
    "    if(not playAgain()):\n",
    "        break "
   ]
  },
  {
   "cell_type": "code",
   "execution_count": null,
   "metadata": {},
   "outputs": [],
   "source": []
  },
  {
   "cell_type": "markdown",
   "metadata": {},
   "source": [
    "Step 9, 10, 11, 12 - Complete "
   ]
  },
  {
   "cell_type": "markdown",
   "metadata": {},
   "source": [
    "# Summary "
   ]
  },
  {
   "cell_type": "markdown",
   "metadata": {},
   "source": [
    "<i>\n",
    "Creating a program with AI comes down to carefully considering all the possible situations the AI can encounter and how it should respond in each of those situations. The Tic-Tac-Toe AI is simple because not as many moves are possible in Tic-Tac-Toe as in a game like chess or checkers.\n",
    "\n",
    "Our computer AI checks for any possible winning moves. Otherwise, it checks whether it must block the player’s move. Then the AI simply chooses any available corner space, then the center space, then the side spaces. This is a simple algorithm for the computer to follow.\n",
    "\n",
    "The key to implementing our AI is to make copies of the board data and simulate moves on the copy. That way, the AI code can see whether a move results in a win or loss. Then the AI can make that move on the real board. This type of simulation is effective at predicting what is or isn’t a good move.\n",
    "</i>"
   ]
  },
  {
   "cell_type": "markdown",
   "metadata": {},
   "source": [
    "@mrizwanse"
   ]
  },
  {
   "cell_type": "markdown",
   "metadata": {},
   "source": [
    "## Happy Learning 😊"
   ]
  }
 ],
 "metadata": {
  "kernelspec": {
   "display_name": "Python 3 (ipykernel)",
   "language": "python",
   "name": "python3"
  },
  "language_info": {
   "codemirror_mode": {
    "name": "ipython",
    "version": 3
   },
   "file_extension": ".py",
   "mimetype": "text/x-python",
   "name": "python",
   "nbconvert_exporter": "python",
   "pygments_lexer": "ipython3",
   "version": "3.9.7"
  }
 },
 "nbformat": 4,
 "nbformat_minor": 4
}
