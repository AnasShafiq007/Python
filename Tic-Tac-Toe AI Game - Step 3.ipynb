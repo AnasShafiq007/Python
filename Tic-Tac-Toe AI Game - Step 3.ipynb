{
 "cells": [
  {
   "cell_type": "markdown",
   "metadata": {},
   "source": [
    "# Tic-Tac-Toe AI Game Project"
   ]
  },
  {
   "cell_type": "markdown",
   "metadata": {},
   "source": [
    "Tic-Tac-Toe is normally played with two people. One player is <b>X</b> and the other player is <b>O</b>. Players take turns placing their <b>X</b> or <b>O</b>. If a player gets three of their marks on the board in a row, column, or diagonal, they win. When the game board fills up with neither player winning, the game ends in a draw."
   ]
  },
  {
   "cell_type": "code",
   "execution_count": 1,
   "metadata": {},
   "outputs": [],
   "source": [
    "def drawGameBoard(board):\n",
    "    # This function prints out the game board that it was passed.\n",
    "    \n",
    "    '''\"board\" is a list of 10 strings representing the board (ignore index 0).'''\n",
    "    print(f' {board[7]} | {board[8]} | {board[9]}')\n",
    "    print('---+---+---')\n",
    "    print(f' {board[4]} | {board[5]} | {board[6]}')\n",
    "    print('---+---+---')\n",
    "    print(f' {board[1]} | {board[2]} | {board[3]}')\n",
    "    \n",
    "def inputPlayerLetter():\n",
    "    # Lets the player enter which letter they want to be.\n",
    "    '''Returns a list with the player's letter as the first item and the computer's letter as the second.'''\n",
    "    letter = ''\n",
    "    while not (letter == 'X' or letter == 'O'):\n",
    "        print('Do you want to be X or O?')\n",
    "        letter = input().upper()\n",
    "        \n",
    "    # The first element in the list is the player's letter; the second is the computer's letter.\n",
    "    if letter == 'X':\n",
    "        return ['X', 'O']\n",
    "    else:\n",
    "        return ['O', 'X']"
   ]
  },
  {
   "cell_type": "markdown",
   "metadata": {},
   "source": [
    "# Step 3 - Deciding Who Goes First"
   ]
  },
  {
   "cell_type": "markdown",
   "metadata": {},
   "source": [
    "Next we create a function that uses <code>randint()</code> to choose whether the player or computer plays first:"
   ]
  },
  {
   "cell_type": "code",
   "execution_count": 2,
   "metadata": {},
   "outputs": [],
   "source": [
    "# Importing the random Module\n",
    "import random"
   ]
  },
  {
   "cell_type": "code",
   "execution_count": null,
   "metadata": {},
   "outputs": [],
   "source": [
    "# random?    # or\n",
    "# random??"
   ]
  },
  {
   "cell_type": "code",
   "execution_count": null,
   "metadata": {},
   "outputs": [],
   "source": [
    "# random.random()"
   ]
  },
  {
   "cell_type": "code",
   "execution_count": null,
   "metadata": {},
   "outputs": [],
   "source": [
    "# random.randint(1, 10)   # Return random integer in range [a, b], including both end points."
   ]
  },
  {
   "cell_type": "code",
   "execution_count": 3,
   "metadata": {},
   "outputs": [],
   "source": [
    "def whoGoesFirst():\n",
    "    # Randomly choose which player goes first.\n",
    "    if random.randint(0, 1) == 0:\n",
    "        return 'computer'\n",
    "    else:\n",
    "        return 'player'"
   ]
  },
  {
   "cell_type": "markdown",
   "metadata": {},
   "source": [
    "The <code>whoGoesFirst()</code> function does a virtual coin flip to determine whether the computer or the player goes first. The coin flip is done with a call to <code>random.randint(0, 1)</code>. There is a 50 percent chance the function returns <code>0</code> and a 50 percent chance the function returns <code>1</code>. If this function call returns a <code>0</code>, the <code>whoGoesFirst()</code> function returns the string <code>'computer'</code>. Otherwise, the function returns the string <code>'player'</code>. The code that calls this function will use the return value to determine who will make the first move of the game."
   ]
  },
  {
   "cell_type": "code",
   "execution_count": 4,
   "metadata": {},
   "outputs": [
    {
     "name": "stdout",
     "output_type": "stream",
     "text": [
      "player\n"
     ]
    }
   ],
   "source": [
    "print(whoGoesFirst())"
   ]
  },
  {
   "cell_type": "code",
   "execution_count": 5,
   "metadata": {},
   "outputs": [],
   "source": [
    "res = whoGoesFirst()"
   ]
  },
  {
   "cell_type": "code",
   "execution_count": 6,
   "metadata": {},
   "outputs": [
    {
     "data": {
      "text/plain": [
       "str"
      ]
     },
     "execution_count": 6,
     "metadata": {},
     "output_type": "execute_result"
    }
   ],
   "source": [
    "type(res)"
   ]
  },
  {
   "cell_type": "code",
   "execution_count": 7,
   "metadata": {},
   "outputs": [
    {
     "name": "stdout",
     "output_type": "stream",
     "text": [
      "computer\n"
     ]
    }
   ],
   "source": [
    "print(res)"
   ]
  },
  {
   "cell_type": "code",
   "execution_count": 8,
   "metadata": {},
   "outputs": [
    {
     "name": "stdout",
     "output_type": "stream",
     "text": [
      "The computer will go first\n"
     ]
    }
   ],
   "source": [
    "print('The {0} will go first'.format(res))"
   ]
  },
  {
   "cell_type": "code",
   "execution_count": 9,
   "metadata": {},
   "outputs": [
    {
     "name": "stdout",
     "output_type": "stream",
     "text": [
      "The computer will go first\n"
     ]
    }
   ],
   "source": [
    "print(f'The {res} will go first')"
   ]
  },
  {
   "cell_type": "code",
   "execution_count": null,
   "metadata": {},
   "outputs": [],
   "source": []
  },
  {
   "cell_type": "code",
   "execution_count": null,
   "metadata": {},
   "outputs": [],
   "source": []
  },
  {
   "cell_type": "markdown",
   "metadata": {},
   "source": [
    "# Starting the Game ..."
   ]
  },
  {
   "cell_type": "code",
   "execution_count": 10,
   "metadata": {},
   "outputs": [],
   "source": [
    "# Tic-Tac-Toe\n",
    "\n",
    "import random \n",
    "\n",
    "def drawGameBoard(board):\n",
    "    # This function prints out the game board that it was passed.\n",
    "    \n",
    "    '''\"board\" is a list of 10 strings representing the board (ignore index 0).'''\n",
    "    print(f' {board[7]} | {board[8]} | {board[9]}')\n",
    "    print('---+---+---')\n",
    "    print(f' {board[4]} | {board[5]} | {board[6]}')\n",
    "    print('---+---+---')\n",
    "    print(f' {board[1]} | {board[2]} | {board[3]}')\n",
    "    \n",
    "def inputPlayerLetter():\n",
    "    # Lets the player enter which letter they want to be.\n",
    "    '''Returns a list with the player's letter as the first item and the computer's letter as the second.'''\n",
    "    letter = ''\n",
    "    while not (letter == 'X' or letter == 'O'):\n",
    "        print('Do you want to be X or O?')\n",
    "        letter = input().upper()\n",
    "        \n",
    "    # The first element in the list is the player's letter; the second is the computer's letter.\n",
    "    if letter == 'X':\n",
    "        return ['X', 'O']\n",
    "    else:\n",
    "        return ['O', 'X']\n",
    "    \n",
    "def whoGoesFirst():\n",
    "    # Randomly choose which player goes first.\n",
    "    if random.randint(0, 1) == 0:\n",
    "        return 'computer'\n",
    "    else:\n",
    "        return 'player'"
   ]
  },
  {
   "cell_type": "code",
   "execution_count": 11,
   "metadata": {},
   "outputs": [
    {
     "name": "stdout",
     "output_type": "stream",
     "text": [
      "Welcome to Tic-Tac-Toe AI Game!\n",
      "   |   |  \n",
      "---+---+---\n",
      "   |   |  \n",
      "---+---+---\n",
      "   |   |  \n"
     ]
    }
   ],
   "source": [
    "print('Welcome to Tic-Tac-Toe AI Game!')\n",
    "\n",
    "# Reset the game board.\n",
    "theGameBoard = [' '] * 10\n",
    "drawGameBoard(theGameBoard)"
   ]
  },
  {
   "cell_type": "code",
   "execution_count": 12,
   "metadata": {},
   "outputs": [
    {
     "name": "stdout",
     "output_type": "stream",
     "text": [
      "Do you want to be X or O?\n"
     ]
    },
    {
     "name": "stdin",
     "output_type": "stream",
     "text": [
      " X\n"
     ]
    },
    {
     "name": "stdout",
     "output_type": "stream",
     "text": [
      "Player's letter: X, Computer's letter: O\n"
     ]
    }
   ],
   "source": [
    "playerLetter, computerLetter = inputPlayerLetter()\n",
    "print(f\"Player's letter: {playerLetter}, Computer's letter: {computerLetter}\")"
   ]
  },
  {
   "cell_type": "code",
   "execution_count": 16,
   "metadata": {},
   "outputs": [
    {
     "name": "stdout",
     "output_type": "stream",
     "text": [
      "The player will go first\n"
     ]
    }
   ],
   "source": [
    "turn = whoGoesFirst()\n",
    "print(f'The {turn} will go first')"
   ]
  },
  {
   "cell_type": "code",
   "execution_count": 17,
   "metadata": {},
   "outputs": [
    {
     "name": "stdout",
     "output_type": "stream",
     "text": [
      "   |   |  \n",
      "---+---+---\n",
      "   |   | O\n",
      "---+---+---\n",
      "   |   |  \n",
      "What is your next move? (1-9)\n"
     ]
    },
    {
     "name": "stdin",
     "output_type": "stream",
     "text": [
      " 9\n"
     ]
    },
    {
     "name": "stdout",
     "output_type": "stream",
     "text": [
      "   |   | X\n",
      "---+---+---\n",
      "   |   | O\n",
      "---+---+---\n",
      "   |   |  \n"
     ]
    }
   ],
   "source": [
    "if turn == 'player':\n",
    "    # Player's turn \n",
    "    drawGameBoard(theGameBoard)\n",
    "    \n",
    "    print('What is your next move? (1-9)')\n",
    "    move = int(input())\n",
    "    \n",
    "    theGameBoard[move] = playerLetter  # Player Move \n",
    "    drawGameBoard(theGameBoard)\n",
    "else:\n",
    "    # Computer's turn \n",
    "    theGameBoard[6] = computerLetter     # Computer Move \n",
    "    drawGameBoard(theGameBoard)"
   ]
  },
  {
   "cell_type": "code",
   "execution_count": null,
   "metadata": {},
   "outputs": [],
   "source": []
  },
  {
   "cell_type": "markdown",
   "metadata": {},
   "source": [
    "Step 3 - Complete "
   ]
  },
  {
   "cell_type": "markdown",
   "metadata": {},
   "source": [
    "@mrizwanse"
   ]
  },
  {
   "cell_type": "markdown",
   "metadata": {},
   "source": [
    "## Happy Learning 😊"
   ]
  }
 ],
 "metadata": {
  "kernelspec": {
   "display_name": "Python 3 (ipykernel)",
   "language": "python",
   "name": "python3"
  },
  "language_info": {
   "codemirror_mode": {
    "name": "ipython",
    "version": 3
   },
   "file_extension": ".py",
   "mimetype": "text/x-python",
   "name": "python",
   "nbconvert_exporter": "python",
   "pygments_lexer": "ipython3",
   "version": "3.9.7"
  }
 },
 "nbformat": 4,
 "nbformat_minor": 4
}
