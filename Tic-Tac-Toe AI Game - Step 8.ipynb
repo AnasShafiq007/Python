{
 "cells": [
  {
   "cell_type": "markdown",
   "metadata": {},
   "source": [
    "# Tic-Tac-Toe AI Game Project"
   ]
  },
  {
   "cell_type": "markdown",
   "metadata": {},
   "source": [
    "Tic-Tac-Toe is normally played with two people. One player is <b>X</b> and the other player is <b>O</b>. Players take turns placing their <b>X</b> or <b>O</b>. If a player gets three of their marks on the board in a row, column, or diagonal, they win. When the game board fills up with neither player winning, the game ends in a draw."
   ]
  },
  {
   "cell_type": "code",
   "execution_count": 1,
   "metadata": {},
   "outputs": [],
   "source": [
    "# Tic-Tac-Toe\n",
    "\n",
    "import random \n",
    "\n",
    "def drawGameBoard(board):\n",
    "    # This function prints out the game board that it was passed.\n",
    "    \n",
    "    '''\"board\" is a list of 10 strings representing the board (ignore index 0).'''\n",
    "    print(f' {board[7]} | {board[8]} | {board[9]}')\n",
    "    print('---+---+---')\n",
    "    print(f' {board[4]} | {board[5]} | {board[6]}')\n",
    "    print('---+---+---')\n",
    "    print(f' {board[1]} | {board[2]} | {board[3]}')\n",
    "    \n",
    "def inputPlayerLetter():\n",
    "    # Lets the player enter which letter they want to be.\n",
    "    '''Returns a list with the player's letter as the first item and the computer's letter as the second.'''\n",
    "    letter = ''\n",
    "    while not (letter == 'X' or letter == 'O'):\n",
    "        print('Do you want to be X or O?')\n",
    "        letter = input().upper()\n",
    "        \n",
    "    # The first element in the list is the player's letter; the second is the computer's letter.\n",
    "    if letter == 'X':\n",
    "        return ['X', 'O']\n",
    "    else:\n",
    "        return ['O', 'X']\n",
    "    \n",
    "def whoGoesFirst():\n",
    "    # Randomly choose which player goes first.\n",
    "    if random.randint(0, 1) == 0:\n",
    "        return 'computer'\n",
    "    else:\n",
    "        return 'player'\n",
    "\n",
    "def makeMove(board, letter, move):\n",
    "    board[move] = letter \n",
    "    \n",
    "def isWinner(bo, le):\n",
    "    # Given a board and a player's letter, this function returns True if that player has won. \n",
    "    # We use \"bo\" instead of \"board\" and \"le\" instead of \"letter\" so we don't have to type as much.\n",
    "    return ((bo[7] == le and bo[8] == le and bo[9] == le) or # Across the top\n",
    "            (bo[4] == le and bo[5] == le and bo[6] == le) or # Across the middle\n",
    "            (bo[1] == le and bo[2] == le and bo[3] == le) or # Across the bottom\n",
    "            (bo[7] == le and bo[4] == le and bo[1] == le) or # Down the left side\n",
    "            (bo[8] == le and bo[5] == le and bo[2] == le) or # Down the middle\n",
    "            (bo[9] == le and bo[6] == le and bo[3] == le) or # Down the right\n",
    "            (bo[7] == le and bo[5] == le and bo[3] == le) or # Diagonal\n",
    "            (bo[9] == le and bo[5] == le and bo[1] == le))   # Diagonal\n",
    "\n",
    "def isSpaceFree(board, move):\n",
    "    # Return True if the passed move is free on the passed board.\n",
    "    return board[move] == ' '\n",
    "\n",
    "def isGameBoardFull(board):\n",
    "    # Return True if every space on the game board has been taken. Otherwise, return False.\n",
    "    for i in range(1, 10):\n",
    "        if isSpaceFree(board, i):\n",
    "            return False  \n",
    "    return True"
   ]
  },
  {
   "cell_type": "markdown",
   "metadata": {},
   "source": [
    "# Step 8 - Letting the Player Enter a Move"
   ]
  },
  {
   "cell_type": "markdown",
   "metadata": {},
   "source": [
    "The <code>getPlayerMove()</code> function asks the player to enter the number for the space they want to move on:"
   ]
  },
  {
   "cell_type": "code",
   "execution_count": 2,
   "metadata": {},
   "outputs": [],
   "source": [
    "def getPlayerMove(board):\n",
    "    # Let the player enter their move.\n",
    "    move = ' '\n",
    "    while move not in '1 2 3 4 5 6 7 8 9'.split() or not isSpaceFree(board, int(move)):\n",
    "        print('What is your next move - (1-9)') \n",
    "        move = input()  \n",
    "    return int(move)"
   ]
  },
  {
   "cell_type": "markdown",
   "metadata": {},
   "source": [
    "The condition on line <code>while move not in '1 2 3 4 5 6 7 8 9'.split() or not isSpaceFree(board, int(move))</code> is <code>True</code> if either of the expressions on the left or right side of the <code>or</code> operator is <code>True</code>. The loop makes sure the execution doesn’t continue until the player has entered an integer between 1 and 9. It also checks that the space entered isn’t already taken, given the Tic-Tac-Toe board passed to the function for the <code>board</code> parameter. The two lines of code inside the <code>while</code> loop simply ask the player to enter a number from 1 to 9. \n",
    "\n",
    "The expression on the left side checks whether the player’s move is equal to <code>'1', '2', '3'</code>, and so on up to <code>'9'</code> by creating a list with these strings (with the <code>split()</code> method) and checking whether <code>move</code> is in this list. In this expression, <code>'1 2 3 4 5 6 7 8 9'.split()</code> evaluates to <code>['1', '2', '3', '4', '5', '6', '7', '8', '9']</code>, but the former is easier to type.\n",
    "\n",
    "The expression on the right side checks whether the move the player entered is a free space on the board by calling <code>isSpaceFree()</code>. Remember that <code>isSpaceFree()</code> returns <code>True</code> if the move you pass is available on the board. Note that <code>isSpaceFree()</code> expects an integer for <code>move</code>, so the <code>int()</code> function returns an integer form of <code>move</code>. \n",
    "\n",
    "The <code>not</code> operators are added to both sides so that the condition is <code>True</code> when either of these requirements is unfulfilled. This causes the loop to ask the player again and again for a number until they enter a proper move. \n",
    "\n",
    "Finally, last line returns the integer form of whatever move the player entered. <code>input()</code> returns strings, so the <code>int()</code> function is called to return an integer form of the string."
   ]
  },
  {
   "cell_type": "markdown",
   "metadata": {},
   "source": [
    "## Short-Circuit Evaluation"
   ]
  },
  {
   "cell_type": "markdown",
   "metadata": {},
   "source": [
    "You may have noticed there’s a possible problem in the <code>getPlayerMove()</code> function. What if the player entered <code>'R'</code> or some other noninteger string? The expression <code>move not in '1 2 3 4 5 6 7 8 9'.split()</code> on the left side of <code>or</code> would return <code>False</code> as expected, and then Python would evaluate the expression on the right side of the <code>or</code> operator.\n",
    "\n",
    "But calling <code>int('R')</code> would cause Python to give an error, because the <code>int()</code> function can take only strings of number characters like <code>'9'</code> or <code>'0'</code>, not strings like <code>'R'</code>.\n",
    "\n",
    "To see an example of this kind of error:"
   ]
  },
  {
   "cell_type": "code",
   "execution_count": 3,
   "metadata": {},
   "outputs": [
    {
     "data": {
      "text/plain": [
       "3"
      ]
     },
     "execution_count": 3,
     "metadata": {},
     "output_type": "execute_result"
    }
   ],
   "source": [
    "int('3')"
   ]
  },
  {
   "cell_type": "code",
   "execution_count": 4,
   "metadata": {},
   "outputs": [
    {
     "ename": "ValueError",
     "evalue": "invalid literal for int() with base 10: 'R'",
     "output_type": "error",
     "traceback": [
      "\u001b[1;31m---------------------------------------------------------------------------\u001b[0m",
      "\u001b[1;31mValueError\u001b[0m                                Traceback (most recent call last)",
      "\u001b[1;32m<ipython-input-4-4109526eba73>\u001b[0m in \u001b[0;36m<module>\u001b[1;34m\u001b[0m\n\u001b[1;32m----> 1\u001b[1;33m \u001b[0mint\u001b[0m\u001b[1;33m(\u001b[0m\u001b[1;34m'R'\u001b[0m\u001b[1;33m)\u001b[0m  \u001b[1;31m# ValueError: invalid literal for int() with base 10: 'R'\u001b[0m\u001b[1;33m\u001b[0m\u001b[1;33m\u001b[0m\u001b[0m\n\u001b[0m",
      "\u001b[1;31mValueError\u001b[0m: invalid literal for int() with base 10: 'R'"
     ]
    }
   ],
   "source": [
    "int('R')  # ValueError: invalid literal for int() with base 10: 'R'"
   ]
  },
  {
   "cell_type": "markdown",
   "metadata": {},
   "source": [
    "But when you play the Tic-Tac-Toe game and try entering <code>'R'</code> for your move, this error doesn’t happen. This is because the <code>while</code> loop’s condition is being short-circuited.\n",
    "\n",
    "<i><b>Short-circuiting</b></i> means that an expression evaluates only part of the way, since the rest of the expression doesn’t change what the expression evaluates to. Here’s a short program that gives a good example of shortcircuiting. "
   ]
  },
  {
   "cell_type": "code",
   "execution_count": 5,
   "metadata": {},
   "outputs": [],
   "source": [
    "def ReturnsTrue():\n",
    "    print('ReturnsTrue() was called.')\n",
    "    return True\n",
    "def ReturnsFalse():\n",
    "    print('ReturnsFalse() was called.')\n",
    "    return False"
   ]
  },
  {
   "cell_type": "code",
   "execution_count": 6,
   "metadata": {},
   "outputs": [
    {
     "name": "stdout",
     "output_type": "stream",
     "text": [
      "ReturnsTrue() was called.\n"
     ]
    },
    {
     "data": {
      "text/plain": [
       "True"
      ]
     },
     "execution_count": 6,
     "metadata": {},
     "output_type": "execute_result"
    }
   ],
   "source": [
    "ReturnsTrue()"
   ]
  },
  {
   "cell_type": "code",
   "execution_count": 7,
   "metadata": {},
   "outputs": [
    {
     "name": "stdout",
     "output_type": "stream",
     "text": [
      "ReturnsFalse() was called.\n"
     ]
    },
    {
     "data": {
      "text/plain": [
       "False"
      ]
     },
     "execution_count": 7,
     "metadata": {},
     "output_type": "execute_result"
    }
   ],
   "source": [
    "ReturnsFalse()"
   ]
  },
  {
   "cell_type": "markdown",
   "metadata": {},
   "source": [
    "When <code>ReturnsTrue()</code> is called, it prints <code>'ReturnsTrue() was called.'</code> and then also displays the return value of <code>ReturnsTrue()</code>. The same goes for <code>ReturnsFalse()</code>.\n",
    "\n",
    "Now enter the following ..."
   ]
  },
  {
   "cell_type": "code",
   "execution_count": 8,
   "metadata": {},
   "outputs": [
    {
     "name": "stdout",
     "output_type": "stream",
     "text": [
      "ReturnsFalse() was called.\n",
      "ReturnsTrue() was called.\n"
     ]
    },
    {
     "data": {
      "text/plain": [
       "True"
      ]
     },
     "execution_count": 8,
     "metadata": {},
     "output_type": "execute_result"
    }
   ],
   "source": [
    "ReturnsFalse() or ReturnsTrue()"
   ]
  },
  {
   "cell_type": "code",
   "execution_count": 9,
   "metadata": {},
   "outputs": [
    {
     "name": "stdout",
     "output_type": "stream",
     "text": [
      "ReturnsTrue() was called.\n"
     ]
    },
    {
     "data": {
      "text/plain": [
       "True"
      ]
     },
     "execution_count": 9,
     "metadata": {},
     "output_type": "execute_result"
    }
   ],
   "source": [
    "ReturnsTrue() or ReturnsFalse()"
   ]
  },
  {
   "cell_type": "markdown",
   "metadata": {},
   "source": [
    "The first part makes sense: the expression <code>ReturnsFalse() or ReturnsTrue()</code> calls both of the functions, so you see both of the printed messages.\n",
    "\n",
    "But the second expression only shows <code>'ReturnsTrue() was called.', not 'ReturnsFalse() was called.'</code>. This is because Python didn’t call <code>ReturnsFalse()</code> at all. Since the left side of the <code>or</code> operator is <code>True</code>, it doesn’t matter what <code>ReturnsFalse()</code> returns, so Python doesn’t bother calling it. The evaluation was short-circuited.\n",
    "\n",
    "The same applies for the and operator. Now enter the following ..."
   ]
  },
  {
   "cell_type": "code",
   "execution_count": 10,
   "metadata": {},
   "outputs": [
    {
     "name": "stdout",
     "output_type": "stream",
     "text": [
      "ReturnsTrue() was called.\n",
      "ReturnsTrue() was called.\n"
     ]
    },
    {
     "data": {
      "text/plain": [
       "True"
      ]
     },
     "execution_count": 10,
     "metadata": {},
     "output_type": "execute_result"
    }
   ],
   "source": [
    "ReturnsTrue() and ReturnsTrue()"
   ]
  },
  {
   "cell_type": "code",
   "execution_count": 11,
   "metadata": {},
   "outputs": [
    {
     "name": "stdout",
     "output_type": "stream",
     "text": [
      "ReturnsFalse() was called.\n"
     ]
    },
    {
     "data": {
      "text/plain": [
       "False"
      ]
     },
     "execution_count": 11,
     "metadata": {},
     "output_type": "execute_result"
    }
   ],
   "source": [
    "ReturnsFalse() and ReturnsFalse()"
   ]
  },
  {
   "cell_type": "markdown",
   "metadata": {},
   "source": [
    "Again, if the left side of the <code>and</code> operator is <code>False</code>, then the entire expression is <code>False</code>. It doesn’t matter whether the right side of <code>and</code> is <code>True</code> or <code>False</code>, so Python doesn’t bother evaluating it. Both <code>False and True</code> and <code>False and False</code> evaluate to <code>False</code>, so Python short-circuits the evaluation.\n",
    "\n",
    "Let’s return to ..."
   ]
  },
  {
   "cell_type": "markdown",
   "metadata": {},
   "source": [
    "<code>\n",
    "while move not in '1 2 3 4 5 6 7 8 9'.split() or not isSpaceFree(board, int(move)):\n",
    "    print('What is your next move - (1-9)') \n",
    "    move = input()  \n",
    "return int(move)\n",
    "</code>"
   ]
  },
  {
   "cell_type": "markdown",
   "metadata": {},
   "source": [
    "Since the part of the condition on the left side of the <code>or</code> operator (<code>move not in '1 2 3 4 5 6 7 8 9'.split()</code>) evaluates to <code>True</code>, the Python interpreter knows that the entire expression will evaluate to <code>True</code>. It doesn’t matter if the expression on the right side of <code>or</code> evaluates to <code>True</code> or <code>False</code>, because only one value on either side of the <code>or</code> operator needs to be <code>True</code> for the whole expression to be <code>True</code>.\n",
    "\n",
    "So Python stops checking the rest of the expression and doesn’t even bother evaluating the <code>not isSpaceFree(board, int(move))</code> part. This means the <code>int()</code> and the <code>isSpaceFree()</code> functions are never called as long as <code>move not in '1 2 3 4 5 6 7 8 9'.split()</code> is <code>True</code>.\n",
    "\n",
    "This works out well for the program, because if the right side of the condition is <code>True</code>, then <code>move</code> isn’t a string of a single-digit number. That would cause <code>int()</code> to give us an error. But if <code>move not in '1 2 3 4 5 6 7 8 9'.split()</code> evaluates to <code>True</code>, Python short-circuits <code>not isSpaceFree(board, int(move))</code> and <code>int(move)</code> is not called."
   ]
  },
  {
   "cell_type": "code",
   "execution_count": 12,
   "metadata": {},
   "outputs": [],
   "source": [
    "def getPlayerMove(board):\n",
    "    # Let the player enter their move.\n",
    "    move = ' '\n",
    "    while move not in '1 2 3 4 5 6 7 8 9'.split() or not isSpaceFree(board, int(move)):\n",
    "        print('What is your next move - (1-9)') \n",
    "        move = input()  \n",
    "    return int(move)"
   ]
  },
  {
   "cell_type": "code",
   "execution_count": 13,
   "metadata": {},
   "outputs": [],
   "source": [
    "theGameBoard = [' ', 'O', ' ', 'O', 'O', 'X', 'X', 'X', 'O', 'X']"
   ]
  },
  {
   "cell_type": "code",
   "execution_count": 14,
   "metadata": {},
   "outputs": [
    {
     "name": "stdout",
     "output_type": "stream",
     "text": [
      "What is your next move - (1-9)\n"
     ]
    },
    {
     "name": "stdin",
     "output_type": "stream",
     "text": [
      " 0\n"
     ]
    },
    {
     "name": "stdout",
     "output_type": "stream",
     "text": [
      "What is your next move - (1-9)\n"
     ]
    },
    {
     "name": "stdin",
     "output_type": "stream",
     "text": [
      " 10\n"
     ]
    },
    {
     "name": "stdout",
     "output_type": "stream",
     "text": [
      "What is your next move - (1-9)\n"
     ]
    },
    {
     "name": "stdin",
     "output_type": "stream",
     "text": [
      " 9\n"
     ]
    },
    {
     "name": "stdout",
     "output_type": "stream",
     "text": [
      "What is your next move - (1-9)\n"
     ]
    },
    {
     "name": "stdin",
     "output_type": "stream",
     "text": [
      " 1\n"
     ]
    },
    {
     "name": "stdout",
     "output_type": "stream",
     "text": [
      "What is your next move - (1-9)\n"
     ]
    },
    {
     "name": "stdin",
     "output_type": "stream",
     "text": [
      " R\n"
     ]
    },
    {
     "name": "stdout",
     "output_type": "stream",
     "text": [
      "What is your next move - (1-9)\n"
     ]
    },
    {
     "name": "stdin",
     "output_type": "stream",
     "text": [
      " 5\n"
     ]
    },
    {
     "name": "stdout",
     "output_type": "stream",
     "text": [
      "What is your next move - (1-9)\n"
     ]
    },
    {
     "name": "stdin",
     "output_type": "stream",
     "text": [
      " 2\n"
     ]
    }
   ],
   "source": [
    "move = getPlayerMove(theGameBoard)"
   ]
  },
  {
   "cell_type": "code",
   "execution_count": 15,
   "metadata": {},
   "outputs": [
    {
     "name": "stdout",
     "output_type": "stream",
     "text": [
      "2\n"
     ]
    }
   ],
   "source": [
    "print(move)"
   ]
  },
  {
   "cell_type": "code",
   "execution_count": 16,
   "metadata": {},
   "outputs": [
    {
     "name": "stdout",
     "output_type": "stream",
     "text": [
      " X | O | X\n",
      "---+---+---\n",
      " O | X | X\n",
      "---+---+---\n",
      " O | X | O\n"
     ]
    }
   ],
   "source": [
    "makeMove(theGameBoard, 'X', move)\n",
    "drawGameBoard(theGameBoard)"
   ]
  },
  {
   "cell_type": "code",
   "execution_count": null,
   "metadata": {},
   "outputs": [],
   "source": []
  },
  {
   "cell_type": "code",
   "execution_count": null,
   "metadata": {},
   "outputs": [],
   "source": []
  },
  {
   "cell_type": "markdown",
   "metadata": {},
   "source": [
    "# Starting the Game ..."
   ]
  },
  {
   "cell_type": "code",
   "execution_count": 17,
   "metadata": {},
   "outputs": [],
   "source": [
    "# Tic-Tac-Toe\n",
    "\n",
    "import random \n",
    "\n",
    "def drawGameBoard(board):\n",
    "    # This function prints out the game board that it was passed.\n",
    "    \n",
    "    '''\"board\" is a list of 10 strings representing the board (ignore index 0).'''\n",
    "    print(f' {board[7]} | {board[8]} | {board[9]}')\n",
    "    print('---+---+---')\n",
    "    print(f' {board[4]} | {board[5]} | {board[6]}')\n",
    "    print('---+---+---')\n",
    "    print(f' {board[1]} | {board[2]} | {board[3]}')\n",
    "    \n",
    "def inputPlayerLetter():\n",
    "    # Lets the player enter which letter they want to be.\n",
    "    '''Returns a list with the player's letter as the first item and the computer's letter as the second.'''\n",
    "    letter = ''\n",
    "    while not (letter == 'X' or letter == 'O'):\n",
    "        print('Do you want to be X or O?')\n",
    "        letter = input().upper()\n",
    "        \n",
    "    # The first element in the list is the player's letter; the second is the computer's letter.\n",
    "    if letter == 'X':\n",
    "        return ['X', 'O']\n",
    "    else:\n",
    "        return ['O', 'X']\n",
    "    \n",
    "def whoGoesFirst():\n",
    "    # Randomly choose which player goes first.\n",
    "    if random.randint(0, 1) == 0:\n",
    "        return 'computer'\n",
    "    else:\n",
    "        return 'player'\n",
    "    \n",
    "def makeMove(board, letter, move):\n",
    "    board[move] = letter \n",
    "    \n",
    "def isWinner(bo, le):\n",
    "    # Given a board and a player's letter, this function returns True if that player has won. \n",
    "    # We use \"bo\" instead of \"board\" and \"le\" instead of \"letter\" so we don't have to type as much.\n",
    "    return ((bo[7] == le and bo[8] == le and bo[9] == le) or # Across the top\n",
    "            (bo[4] == le and bo[5] == le and bo[6] == le) or # Across the middle\n",
    "            (bo[1] == le and bo[2] == le and bo[3] == le) or # Across the bottom\n",
    "            (bo[7] == le and bo[4] == le and bo[1] == le) or # Down the left side\n",
    "            (bo[8] == le and bo[5] == le and bo[2] == le) or # Down the middle\n",
    "            (bo[9] == le and bo[6] == le and bo[3] == le) or # Down the right\n",
    "            (bo[7] == le and bo[5] == le and bo[3] == le) or # Diagonal\n",
    "            (bo[9] == le and bo[5] == le and bo[1] == le))   # Diagonal\n",
    "\n",
    "def isSpaceFree(board, move):\n",
    "    # Return True if the passed move is free on the passed board.\n",
    "    return board[move] == ' '\n",
    "\n",
    "def isGameBoardFull(board):\n",
    "    # Return True if every space on the game board has been taken. Otherwise, return False.\n",
    "    for i in range(1, 10):\n",
    "        if isSpaceFree(board, i):\n",
    "            return False  \n",
    "    return True \n",
    "\n",
    "def getPlayerMove(board):\n",
    "    # Let the player enter their move.\n",
    "    move = ' '\n",
    "    while move not in '1 2 3 4 5 6 7 8 9'.split() or not isSpaceFree(board, int(move)):\n",
    "        print('What is your next move - (1-9)') \n",
    "        move = input()  \n",
    "    return int(move)"
   ]
  },
  {
   "cell_type": "code",
   "execution_count": 18,
   "metadata": {},
   "outputs": [
    {
     "name": "stdout",
     "output_type": "stream",
     "text": [
      "Welcome to Tic-Tac-Toe AI Game!\n",
      "   |   |  \n",
      "---+---+---\n",
      "   |   |  \n",
      "---+---+---\n",
      "   |   |  \n"
     ]
    }
   ],
   "source": [
    "print('Welcome to Tic-Tac-Toe AI Game!')\n",
    "\n",
    "# Reset the game board.\n",
    "theGameBoard = [' '] * 10\n",
    "drawGameBoard(theGameBoard)"
   ]
  },
  {
   "cell_type": "code",
   "execution_count": 19,
   "metadata": {},
   "outputs": [
    {
     "name": "stdout",
     "output_type": "stream",
     "text": [
      "Do you want to be X or O?\n"
     ]
    },
    {
     "name": "stdin",
     "output_type": "stream",
     "text": [
      " X\n"
     ]
    },
    {
     "name": "stdout",
     "output_type": "stream",
     "text": [
      "Player's letter: X, Computer's letter: O\n"
     ]
    }
   ],
   "source": [
    "playerLetter, computerLetter = inputPlayerLetter()\n",
    "print(f\"Player's letter: {playerLetter}, Computer's letter: {computerLetter}\")"
   ]
  },
  {
   "cell_type": "code",
   "execution_count": 20,
   "metadata": {},
   "outputs": [
    {
     "name": "stdout",
     "output_type": "stream",
     "text": [
      "The player will go first\n"
     ]
    }
   ],
   "source": [
    "turn = whoGoesFirst()\n",
    "print(f'The {turn} will go first')"
   ]
  },
  {
   "cell_type": "code",
   "execution_count": 21,
   "metadata": {},
   "outputs": [],
   "source": [
    "theGameBoard = [' ', 'O', ' ', 'O', 'O', 'X', 'X', 'X', 'O', 'X']"
   ]
  },
  {
   "cell_type": "code",
   "execution_count": 22,
   "metadata": {},
   "outputs": [
    {
     "name": "stdout",
     "output_type": "stream",
     "text": [
      " X | O | X\n",
      "---+---+---\n",
      " O | X | X\n",
      "---+---+---\n",
      " O |   | O\n"
     ]
    }
   ],
   "source": [
    "drawGameBoard(theGameBoard)"
   ]
  },
  {
   "cell_type": "code",
   "execution_count": 23,
   "metadata": {},
   "outputs": [
    {
     "name": "stdout",
     "output_type": "stream",
     "text": [
      " X | O | X\n",
      "---+---+---\n",
      " O | X | X\n",
      "---+---+---\n",
      " O |   | O\n",
      "What is your next move - (1-9)\n"
     ]
    },
    {
     "name": "stdin",
     "output_type": "stream",
     "text": [
      " 0\n"
     ]
    },
    {
     "name": "stdout",
     "output_type": "stream",
     "text": [
      "What is your next move - (1-9)\n"
     ]
    },
    {
     "name": "stdin",
     "output_type": "stream",
     "text": [
      " 10\n"
     ]
    },
    {
     "name": "stdout",
     "output_type": "stream",
     "text": [
      "What is your next move - (1-9)\n"
     ]
    },
    {
     "name": "stdin",
     "output_type": "stream",
     "text": [
      " 1\n"
     ]
    },
    {
     "name": "stdout",
     "output_type": "stream",
     "text": [
      "What is your next move - (1-9)\n"
     ]
    },
    {
     "name": "stdin",
     "output_type": "stream",
     "text": [
      " 5\n"
     ]
    },
    {
     "name": "stdout",
     "output_type": "stream",
     "text": [
      "What is your next move - (1-9)\n"
     ]
    },
    {
     "name": "stdin",
     "output_type": "stream",
     "text": [
      " 9\n"
     ]
    },
    {
     "name": "stdout",
     "output_type": "stream",
     "text": [
      "What is your next move - (1-9)\n"
     ]
    },
    {
     "name": "stdin",
     "output_type": "stream",
     "text": [
      " 6\n"
     ]
    },
    {
     "name": "stdout",
     "output_type": "stream",
     "text": [
      "What is your next move - (1-9)\n"
     ]
    },
    {
     "name": "stdin",
     "output_type": "stream",
     "text": [
      " R\n"
     ]
    },
    {
     "name": "stdout",
     "output_type": "stream",
     "text": [
      "What is your next move - (1-9)\n"
     ]
    },
    {
     "name": "stdin",
     "output_type": "stream",
     "text": [
      " 3\n"
     ]
    },
    {
     "name": "stdout",
     "output_type": "stream",
     "text": [
      "What is your next move - (1-9)\n"
     ]
    },
    {
     "name": "stdin",
     "output_type": "stream",
     "text": [
      " 2\n"
     ]
    },
    {
     "name": "stdout",
     "output_type": "stream",
     "text": [
      "Player moved ...\n",
      " X | O | X\n",
      "---+---+---\n",
      " O | X | X\n",
      "---+---+---\n",
      " O | X | O\n",
      "The game is a tie!\n"
     ]
    }
   ],
   "source": [
    "if turn == 'player':\n",
    "    # Player's turn \n",
    "    drawGameBoard(theGameBoard)\n",
    "    \n",
    "    move = getPlayerMove(theGameBoard)\n",
    "    makeMove(theGameBoard, playerLetter, move)\n",
    "    print('Player moved ...')\n",
    "    \n",
    "    if isWinner(theGameBoard, playerLetter):\n",
    "        drawGameBoard(theGameBoard)\n",
    "        print('You have won the game!')\n",
    "    else:\n",
    "        if isGameBoardFull(theGameBoard):\n",
    "            drawGameBoard(theGameBoard)\n",
    "            print('The game is a tie!')\n",
    "        else:\n",
    "            turn = 'computer'\n",
    "            print('cont ...')\n",
    "else:\n",
    "    # Computer's turn \n",
    "    if isSpaceFree(theGameBoard, move):\n",
    "        makeMove(theGameBoard, computerLetter, 7)\n",
    "        print('Computer moved ...')\n",
    "    else:\n",
    "        print('Computer Not move ...')\n",
    "    \n",
    "    if isWinner(theGameBoard, computerLetter):\n",
    "        drawGameBoard(theGameBoard)\n",
    "        print('The computer has beaten you! You lose.')\n",
    "    else:\n",
    "        if isGameBoardFull(theGameBoard):\n",
    "            drawGameBoard(theGameBoard)\n",
    "            print('The game is a tie!')\n",
    "        else:\n",
    "            turn = 'player'\n",
    "            print('cont ...')"
   ]
  },
  {
   "cell_type": "code",
   "execution_count": null,
   "metadata": {},
   "outputs": [],
   "source": []
  },
  {
   "cell_type": "markdown",
   "metadata": {},
   "source": [
    "Step 8 - Complete "
   ]
  },
  {
   "cell_type": "markdown",
   "metadata": {},
   "source": [
    "@mrizwanse"
   ]
  },
  {
   "cell_type": "markdown",
   "metadata": {},
   "source": [
    "## Happy Learning 😊"
   ]
  }
 ],
 "metadata": {
  "kernelspec": {
   "display_name": "Python 3 (ipykernel)",
   "language": "python",
   "name": "python3"
  },
  "language_info": {
   "codemirror_mode": {
    "name": "ipython",
    "version": 3
   },
   "file_extension": ".py",
   "mimetype": "text/x-python",
   "name": "python",
   "nbconvert_exporter": "python",
   "pygments_lexer": "ipython3",
   "version": "3.9.7"
  }
 },
 "nbformat": 4,
 "nbformat_minor": 4
}
