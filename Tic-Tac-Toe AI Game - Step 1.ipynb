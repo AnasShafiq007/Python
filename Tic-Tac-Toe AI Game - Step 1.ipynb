{
 "cells": [
  {
   "cell_type": "markdown",
   "metadata": {},
   "source": [
    "# Tic-Tac-Toe AI Game Project"
   ]
  },
  {
   "cell_type": "markdown",
   "metadata": {},
   "source": [
    "Tic-Tac-Toe is normally played with two people. One player is <b>X</b> and the other player is <b>O</b>. Players take turns placing their <b>X</b> or <b>O</b>. If a player gets three of their marks on the board in a row, column, or diagonal, they win. When the game board fills up with neither player winning, the game ends in a draw."
   ]
  },
  {
   "cell_type": "markdown",
   "metadata": {},
   "source": [
    "An <b>AI</b> (artificial intelligence) is a computer program that can intelligently respond to the player’s moves. The <b>AI</b> that plays Tic-Tac-Toe isn’t complicated; it’s really just a few lines of code."
   ]
  },
  {
   "cell_type": "markdown",
   "metadata": {},
   "source": [
    "#### Representing the Game Board as Data"
   ]
  },
  {
   "cell_type": "markdown",
   "metadata": {},
   "source": [
    "First, you must figure out how to represent the board as data in a variable. On paper, the Tic-Tac-Toe game board is drawn as a pair of horizontal lines and a pair of vertical lines, with an <b>X</b>, <b>O</b>, or empty space in each of the nine spaces."
   ]
  },
  {
   "cell_type": "markdown",
   "metadata": {},
   "source": [
    "In the project, the Tic-Tac-Toe game board is represented as a list of strings. Each string represents one of the nine spaces on the game board. \n",
    "\n",
    "The strings are either <code>'X'</code> for the <b>X</b> player, <code>'O'</code> for the <b>O</b> player, or a single space \n",
    "<code>' '</code> for a blank space."
   ]
  },
  {
   "cell_type": "markdown",
   "metadata": {},
   "source": [
    "Remember that we’re laying out our game board like a number pad on a keyboard. So if a list with 10 strings was stored in a variable named <code>board</code>, then <code>board[7]</code> would be the top-left space on the board, <code>board[8]</code> would be the top-middle space, <code>board[9]</code> would be the top-right space, and so on. The project ignores the string at index 0 in the list. The player will enter a number from 1 to 9 to tell the game which space they want to move on."
   ]
  },
  {
   "cell_type": "markdown",
   "metadata": {},
   "source": [
    "#### Start the Source Code for Tic-Tac-Toe AI Game Project "
   ]
  },
  {
   "cell_type": "markdown",
   "metadata": {},
   "source": [
    "Make sure you’re using <b>Python 3.x</b>, not Python 2.x!"
   ]
  },
  {
   "cell_type": "markdown",
   "metadata": {},
   "source": [
    "# Step 1 - Printing the Game Board on the Screen"
   ]
  },
  {
   "cell_type": "code",
   "execution_count": 1,
   "metadata": {},
   "outputs": [],
   "source": [
    "def drawGameBoard(board):\n",
    "    # This function prints out the game board that it was passed.\n",
    "    '''\"board\" is a list of 10 strings representing the board (ignore index 0).'''\n",
    "    \n",
    "    print(f' {board[7]} | {board[8]} | {board[9]}')\n",
    "    print('---+---+---')\n",
    "    print(f' {board[4]} | {board[5]} | {board[6]}')\n",
    "    print('---+---+---')\n",
    "    print(f' {board[1]} | {board[2]} | {board[3]}')"
   ]
  },
  {
   "cell_type": "markdown",
   "metadata": {},
   "source": [
    "The <code>drawGameBoard()</code> function prints the game board represented by the <code>board</code> parameter. Remember that the <code>board</code> is represented as a list of 10 strings, where the string at index 1 is the mark on space 1 on the Tic-Tac-Toe board, and so on. The string at index 0 is ignored. Many of the game’s functions work by passing a list of 10 strings as the board. \n",
    "\n",
    "Be sure to get the spacing right in the strings; otherwise, the board will look funny when printed on the screen. Here are some example calls (with an argument for <code>board</code>) to <code>drawGameBoard()</code> and what the function would print."
   ]
  },
  {
   "cell_type": "code",
   "execution_count": 2,
   "metadata": {},
   "outputs": [
    {
     "name": "stdout",
     "output_type": "stream",
     "text": [
      "   |   |  \n",
      "---+---+---\n",
      "   |   |  \n",
      "---+---+---\n",
      "   |   |  \n"
     ]
    }
   ],
   "source": [
    "drawGameBoard([' ', ' ', ' ', ' ', ' ', ' ', ' ', ' ', ' ', ' '])"
   ]
  },
  {
   "cell_type": "code",
   "execution_count": 3,
   "metadata": {},
   "outputs": [
    {
     "name": "stdout",
     "output_type": "stream",
     "text": [
      " X |   |  \n",
      "---+---+---\n",
      "   | O | O\n",
      "---+---+---\n",
      " X |   |  \n"
     ]
    }
   ],
   "source": [
    "drawGameBoard([' ', 'X', ' ', ' ', ' ', 'O', 'O', 'X', ' ', ' '])"
   ]
  },
  {
   "cell_type": "markdown",
   "metadata": {},
   "source": [
    "The function takes each string and places it on the board in number order according to the keyboard \n",
    "number pad, so the first three strings are the bottom row of the board, the next three strings are the\n",
    "middle, and the last three strings are the top."
   ]
  },
  {
   "cell_type": "code",
   "execution_count": 4,
   "metadata": {},
   "outputs": [],
   "source": [
    "stringNumberList = ['0', '1', '2', '3', '4', '5', '6', '7', '8', '9']"
   ]
  },
  {
   "cell_type": "code",
   "execution_count": 5,
   "metadata": {},
   "outputs": [
    {
     "name": "stdout",
     "output_type": "stream",
     "text": [
      " 7 | 8 | 9\n",
      "---+---+---\n",
      " 4 | 5 | 6\n",
      "---+---+---\n",
      " 1 | 2 | 3\n"
     ]
    }
   ],
   "source": [
    "drawGameBoard(stringNumberList)"
   ]
  },
  {
   "cell_type": "code",
   "execution_count": null,
   "metadata": {},
   "outputs": [],
   "source": []
  },
  {
   "cell_type": "code",
   "execution_count": 6,
   "metadata": {},
   "outputs": [
    {
     "name": "stdout",
     "output_type": "stream",
     "text": [
      " C | S | C\n",
      "---+---+---\n",
      " S | c | S\n",
      "---+---+---\n",
      " C | S | C\n"
     ]
    }
   ],
   "source": [
    "# C - Corner\n",
    "# S - Side\n",
    "# c - center\n",
    "\n",
    "drawGameBoard([' ', 'C', 'S', 'C', 'S', 'c', 'S', 'C', 'S', 'C'])"
   ]
  },
  {
   "cell_type": "code",
   "execution_count": null,
   "metadata": {},
   "outputs": [],
   "source": []
  },
  {
   "cell_type": "code",
   "execution_count": 7,
   "metadata": {},
   "outputs": [],
   "source": [
    "lst = [' '] * 10"
   ]
  },
  {
   "cell_type": "code",
   "execution_count": 8,
   "metadata": {},
   "outputs": [
    {
     "data": {
      "text/plain": [
       "[' ', ' ', ' ', ' ', ' ', ' ', ' ', ' ', ' ', ' ']"
      ]
     },
     "execution_count": 8,
     "metadata": {},
     "output_type": "execute_result"
    }
   ],
   "source": [
    "lst"
   ]
  },
  {
   "cell_type": "code",
   "execution_count": 9,
   "metadata": {},
   "outputs": [
    {
     "name": "stdout",
     "output_type": "stream",
     "text": [
      "   |   |  \n",
      "---+---+---\n",
      "   |   |  \n",
      "---+---+---\n",
      "   |   |  \n"
     ]
    }
   ],
   "source": [
    "drawGameBoard(lst)"
   ]
  },
  {
   "cell_type": "code",
   "execution_count": null,
   "metadata": {},
   "outputs": [],
   "source": []
  },
  {
   "cell_type": "code",
   "execution_count": null,
   "metadata": {},
   "outputs": [],
   "source": []
  },
  {
   "cell_type": "code",
   "execution_count": null,
   "metadata": {},
   "outputs": [],
   "source": []
  },
  {
   "cell_type": "markdown",
   "metadata": {},
   "source": [
    "#### The Game Starts ..."
   ]
  },
  {
   "cell_type": "code",
   "execution_count": 10,
   "metadata": {},
   "outputs": [
    {
     "name": "stdout",
     "output_type": "stream",
     "text": [
      "Welcome to Tic-Tac-Toe Game!\n"
     ]
    }
   ],
   "source": [
    "print('Welcome to Tic-Tac-Toe Game!')"
   ]
  },
  {
   "cell_type": "code",
   "execution_count": 11,
   "metadata": {},
   "outputs": [],
   "source": [
    "# Reset the game board.\n",
    "theGameBoard = [' '] * 10"
   ]
  },
  {
   "cell_type": "markdown",
   "metadata": {},
   "source": [
    "<code>theGameBoard</code> list variable sets up the main Tic-Tac-Toe game board. The board starts empty, which represent with a list of 10 single space strings. Rather than type out this full list. \n",
    "It’s shorter to type <code>[' '] * 10</code> \n",
    "than <code>[' ', ' ', ' ', ' ', ' ', ' ', ' ', ' ', ' ', ' ']</code>."
   ]
  },
  {
   "cell_type": "code",
   "execution_count": 12,
   "metadata": {},
   "outputs": [
    {
     "name": "stdout",
     "output_type": "stream",
     "text": [
      "   |   |  \n",
      "---+---+---\n",
      "   |   |  \n",
      "---+---+---\n",
      "   |   |  \n"
     ]
    }
   ],
   "source": [
    "drawGameBoard(theGameBoard)"
   ]
  },
  {
   "cell_type": "code",
   "execution_count": 13,
   "metadata": {},
   "outputs": [
    {
     "name": "stdout",
     "output_type": "stream",
     "text": [
      "Do you want to be X or O?\n"
     ]
    },
    {
     "name": "stdin",
     "output_type": "stream",
     "text": [
      " X\n"
     ]
    }
   ],
   "source": [
    "print('Do you want to be X or O?')\n",
    "letter = input()"
   ]
  },
  {
   "cell_type": "code",
   "execution_count": 14,
   "metadata": {},
   "outputs": [
    {
     "name": "stdout",
     "output_type": "stream",
     "text": [
      "What is your next move? (1-9)\n"
     ]
    },
    {
     "name": "stdin",
     "output_type": "stream",
     "text": [
      " 7\n"
     ]
    }
   ],
   "source": [
    "print('What is your next move? (1-9)')\n",
    "move = int(input())"
   ]
  },
  {
   "cell_type": "code",
   "execution_count": 15,
   "metadata": {},
   "outputs": [],
   "source": [
    "theGameBoard[move] = letter"
   ]
  },
  {
   "cell_type": "code",
   "execution_count": 16,
   "metadata": {},
   "outputs": [
    {
     "name": "stdout",
     "output_type": "stream",
     "text": [
      " X |   |  \n",
      "---+---+---\n",
      "   |   |  \n",
      "---+---+---\n",
      "   |   |  \n"
     ]
    }
   ],
   "source": [
    "drawGameBoard(theGameBoard)"
   ]
  },
  {
   "cell_type": "code",
   "execution_count": null,
   "metadata": {},
   "outputs": [],
   "source": []
  },
  {
   "cell_type": "markdown",
   "metadata": {},
   "source": [
    "Step 1 - Complete"
   ]
  },
  {
   "cell_type": "markdown",
   "metadata": {},
   "source": [
    "@mrizwanse"
   ]
  },
  {
   "cell_type": "markdown",
   "metadata": {},
   "source": [
    "## Happy Learning 😊"
   ]
  }
 ],
 "metadata": {
  "kernelspec": {
   "display_name": "Python 3 (ipykernel)",
   "language": "python",
   "name": "python3"
  },
  "language_info": {
   "codemirror_mode": {
    "name": "ipython",
    "version": 3
   },
   "file_extension": ".py",
   "mimetype": "text/x-python",
   "name": "python",
   "nbconvert_exporter": "python",
   "pygments_lexer": "ipython3",
   "version": "3.9.7"
  }
 },
 "nbformat": 4,
 "nbformat_minor": 4
}
