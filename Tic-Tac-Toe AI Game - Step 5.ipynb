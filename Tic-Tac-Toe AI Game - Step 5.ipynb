{
 "cells": [
  {
   "cell_type": "markdown",
   "metadata": {},
   "source": [
    "# Tic-Tac-Toe AI Game Project"
   ]
  },
  {
   "cell_type": "markdown",
   "metadata": {},
   "source": [
    "Tic-Tac-Toe is normally played with two people. One player is <b>X</b> and the other player is <b>O</b>. Players take turns placing their <b>X</b> or <b>O</b>. If a player gets three of their marks on the board in a row, column, or diagonal, they win. When the game board fills up with neither player winning, the game ends in a draw."
   ]
  },
  {
   "cell_type": "code",
   "execution_count": 1,
   "metadata": {},
   "outputs": [],
   "source": [
    "# Tic-Tac-Toe\n",
    "\n",
    "import random \n",
    "\n",
    "def drawGameBoard(board):\n",
    "    # This function prints out the game board that it was passed.\n",
    "    \n",
    "    '''\"board\" is a list of 10 strings representing the board (ignore index 0).'''\n",
    "    print(f' {board[7]} | {board[8]} | {board[9]}')\n",
    "    print('---+---+---')\n",
    "    print(f' {board[4]} | {board[5]} | {board[6]}')\n",
    "    print('---+---+---')\n",
    "    print(f' {board[1]} | {board[2]} | {board[3]}')\n",
    "    \n",
    "def inputPlayerLetter():\n",
    "    # Lets the player enter which letter they want to be.\n",
    "    '''Returns a list with the player's letter as the first item and the computer's letter as the second.'''\n",
    "    letter = ''\n",
    "    while not (letter == 'X' or letter == 'O'):\n",
    "        print('Do you want to be X or O?')\n",
    "        letter = input().upper()\n",
    "        \n",
    "    # The first element in the list is the player's letter; the second is the computer's letter.\n",
    "    if letter == 'X':\n",
    "        return ['X', 'O']\n",
    "    else:\n",
    "        return ['O', 'X']\n",
    "    \n",
    "def whoGoesFirst():\n",
    "    # Randomly choose which player goes first.\n",
    "    if random.randint(0, 1) == 0:\n",
    "        return 'computer'\n",
    "    else:\n",
    "        return 'player'\n",
    "\n",
    "def makeMove(board, letter, move):\n",
    "    board[move] = letter "
   ]
  },
  {
   "cell_type": "markdown",
   "metadata": {},
   "source": [
    "# Step 5 - Checking Whether the Player Won "
   ]
  },
  {
   "cell_type": "markdown",
   "metadata": {},
   "source": [
    "The <code>isWinner()</code> function are actually one long return statement:"
   ]
  },
  {
   "cell_type": "code",
   "execution_count": 2,
   "metadata": {},
   "outputs": [],
   "source": [
    "def isWinner(bo, le):\n",
    "    # Given a board and a player's letter, this function returns True if that player has won. \n",
    "    # We use \"bo\" instead of \"board\" and \"le\" instead of \"letter\" so we don't have to type as much.\n",
    "    return ((bo[7] == le and bo[8] == le and bo[9] == le) or # Across the top\n",
    "            (bo[4] == le and bo[5] == le and bo[6] == le) or # Across the middle\n",
    "            (bo[1] == le and bo[2] == le and bo[3] == le) or # Across the bottom\n",
    "            (bo[7] == le and bo[4] == le and bo[1] == le) or # Down the left side\n",
    "            (bo[8] == le and bo[5] == le and bo[2] == le) or # Down the middle\n",
    "            (bo[9] == le and bo[6] == le and bo[3] == le) or # Down the right\n",
    "            (bo[7] == le and bo[5] == le and bo[3] == le) or # Diagonal\n",
    "            (bo[9] == le and bo[5] == le and bo[1] == le))   # Diagonal"
   ]
  },
  {
   "cell_type": "markdown",
   "metadata": {},
   "source": [
    "The <code>bo</code> and <code>le</code> names are shortcuts for the <code>board</code> and <code>letter</code> parameters. These shorter names mean you have less to type in this function. Remember, Python doesn’t care what you name your variables. \n",
    "\n",
    "There are eight possible ways to win at Tic-Tac-Toe: you can have a line across the top, middle, or bottom rows; you can have a line down the left, middle, or right columns; or you can have a line across either of the two diagonals.\n",
    "\n",
    "Each line of the condition checks whether the three spaces for a given line are equal to the letter provided (combined with the <code>and</code> operator). You combine each line using the <code>or</code> operator to check for the eight different ways to win. This means only one of the eight ways must be <code>True</code> in order for us to say that the player who owns the letter in <code>le</code> is the winner.\n",
    "\n",
    "Let’s pretend that <code>le</code> is <code>'O'</code> and <code>bo</code> is <code>[' ', 'O', 'O', 'O', ' ', 'X', ' ', 'X', ' ', ' ']</code>. The board would look like this:"
   ]
  },
  {
   "cell_type": "code",
   "execution_count": 3,
   "metadata": {},
   "outputs": [
    {
     "name": "stdout",
     "output_type": "stream",
     "text": [
      " X |   |  \n",
      "---+---+---\n",
      "   | X |  \n",
      "---+---+---\n",
      " O | O | O\n"
     ]
    }
   ],
   "source": [
    "theGameBoard = [' ', 'O', 'O', 'O', ' ', 'X', ' ', 'X', ' ', ' ']\n",
    "drawGameBoard(theGameBoard)"
   ]
  },
  {
   "cell_type": "markdown",
   "metadata": {},
   "source": [
    "Here is how the expression after the <code>return</code> keyword evaluate. First Python replaces the variables <code>bo</code> and <code>le</code> with the values in each variable:"
   ]
  },
  {
   "cell_type": "markdown",
   "metadata": {},
   "source": [
    "<code>\n",
    "return (('X' == 'O' and ' ' == 'O' and ' ' == 'O') or\n",
    "(' ' == 'O' and 'X' == 'O' and ' ' == 'O') or\n",
    "('O' == 'O' and 'O' == 'O' and 'O' == 'O') or\n",
    "('X' == 'O' and ' ' == 'O' and 'O' == 'O') or\n",
    "(' ' == 'O' and 'X' == 'O' and 'O' == 'O') or\n",
    "(' ' == 'O' and ' ' == 'O' and 'O' == 'O') or\n",
    "('X' == 'O' and 'X' == 'O' and 'O' == 'O') or\n",
    "(' ' == 'O' and 'X' == 'O' and 'O' == 'O'))\n",
    "</code>"
   ]
  },
  {
   "cell_type": "markdown",
   "metadata": {},
   "source": [
    "Next, Python evaluates all those <code>==</code> comparisons inside the parentheses to Boolean values:"
   ]
  },
  {
   "cell_type": "markdown",
   "metadata": {},
   "source": [
    "<code>\n",
    "return ((False and False and False) or\n",
    "(False and False and False) or\n",
    "(True and True and True) or\n",
    "(False and False and True) or\n",
    "(False and False and True) or\n",
    "(False and False and True) or\n",
    "(False and False and True) or\n",
    "(False and False and True))\n",
    "</code>"
   ]
  },
  {
   "cell_type": "markdown",
   "metadata": {},
   "source": [
    "Then the Python interpreter evaluates all the expressions inside the parentheses:"
   ]
  },
  {
   "cell_type": "markdown",
   "metadata": {},
   "source": [
    "<code>\n",
    "return ((False) or\n",
    "(False) or\n",
    "(True) or\n",
    "(False) or\n",
    "(False) or\n",
    "(False) or\n",
    "(False) or\n",
    "(False))\n",
    "</code>"
   ]
  },
  {
   "cell_type": "markdown",
   "metadata": {},
   "source": [
    "Since now there’s only one value inside each of the inner parentheses, you can get rid of them:"
   ]
  },
  {
   "cell_type": "markdown",
   "metadata": {},
   "source": [
    "<code>\n",
    "return (False or\n",
    "False or\n",
    "True or\n",
    "False or\n",
    "False or\n",
    "False or\n",
    "False or\n",
    "False)\n",
    "</code>"
   ]
  },
  {
   "cell_type": "markdown",
   "metadata": {},
   "source": [
    "Now Python evaluates the expression connected by all those <code>or</code> operators:"
   ]
  },
  {
   "cell_type": "markdown",
   "metadata": {},
   "source": [
    "<code>return (True)</code>"
   ]
  },
  {
   "cell_type": "markdown",
   "metadata": {},
   "source": [
    "Once again, get rid of the parentheses, and you are left with one value:"
   ]
  },
  {
   "cell_type": "markdown",
   "metadata": {},
   "source": [
    "<code>return True</code>"
   ]
  },
  {
   "cell_type": "markdown",
   "metadata": {},
   "source": [
    "So given those values for <code>bo</code> and <code>le</code>, the expression would evaluate to <code>True</code>. This is how the program can tell if one of the players has won the game."
   ]
  },
  {
   "cell_type": "code",
   "execution_count": null,
   "metadata": {},
   "outputs": [],
   "source": []
  },
  {
   "cell_type": "code",
   "execution_count": null,
   "metadata": {},
   "outputs": [],
   "source": []
  },
  {
   "cell_type": "markdown",
   "metadata": {},
   "source": [
    "# Starting the Game ..."
   ]
  },
  {
   "cell_type": "code",
   "execution_count": 4,
   "metadata": {},
   "outputs": [],
   "source": [
    "# Tic-Tac-Toe\n",
    "\n",
    "import random \n",
    "\n",
    "def drawGameBoard(board):\n",
    "    # This function prints out the game board that it was passed.\n",
    "    \n",
    "    '''\"board\" is a list of 10 strings representing the board (ignore index 0).'''\n",
    "    print(f' {board[7]} | {board[8]} | {board[9]}')\n",
    "    print('---+---+---')\n",
    "    print(f' {board[4]} | {board[5]} | {board[6]}')\n",
    "    print('---+---+---')\n",
    "    print(f' {board[1]} | {board[2]} | {board[3]}')\n",
    "    \n",
    "def inputPlayerLetter():\n",
    "    # Lets the player enter which letter they want to be.\n",
    "    '''Returns a list with the player's letter as the first item and the computer's letter as the second.'''\n",
    "    letter = ''\n",
    "    while not (letter == 'X' or letter == 'O'):\n",
    "        print('Do you want to be X or O?')\n",
    "        letter = input().upper()\n",
    "        \n",
    "    # The first element in the list is the player's letter; the second is the computer's letter.\n",
    "    if letter == 'X':\n",
    "        return ['X', 'O']\n",
    "    else:\n",
    "        return ['O', 'X']\n",
    "    \n",
    "def whoGoesFirst():\n",
    "    # Randomly choose which player goes first.\n",
    "    if random.randint(0, 1) == 0:\n",
    "        return 'computer'\n",
    "    else:\n",
    "        return 'player'\n",
    "    \n",
    "def makeMove(board, letter, move):\n",
    "    board[move] = letter \n",
    "    \n",
    "def isWinner(bo, le):\n",
    "    # Given a board and a player's letter, this function returns True if that player has won. \n",
    "    # We use \"bo\" instead of \"board\" and \"le\" instead of \"letter\" so we don't have to type as much.\n",
    "    return ((bo[7] == le and bo[8] == le and bo[9] == le) or # Across the top\n",
    "            (bo[4] == le and bo[5] == le and bo[6] == le) or # Across the middle\n",
    "            (bo[1] == le and bo[2] == le and bo[3] == le) or # Across the bottom\n",
    "            (bo[7] == le and bo[4] == le and bo[1] == le) or # Down the left side\n",
    "            (bo[8] == le and bo[5] == le and bo[2] == le) or # Down the middle\n",
    "            (bo[9] == le and bo[6] == le and bo[3] == le) or # Down the right\n",
    "            (bo[7] == le and bo[5] == le and bo[3] == le) or # Diagonal\n",
    "            (bo[9] == le and bo[5] == le and bo[1] == le))   # Diagonal"
   ]
  },
  {
   "cell_type": "code",
   "execution_count": 5,
   "metadata": {},
   "outputs": [
    {
     "name": "stdout",
     "output_type": "stream",
     "text": [
      "Welcome to Tic-Tac-Toe AI Game!\n",
      "   |   |  \n",
      "---+---+---\n",
      "   |   |  \n",
      "---+---+---\n",
      "   |   |  \n"
     ]
    }
   ],
   "source": [
    "print('Welcome to Tic-Tac-Toe AI Game!')\n",
    "\n",
    "# Reset the game board.\n",
    "theGameBoard = [' '] * 10\n",
    "drawGameBoard(theGameBoard)"
   ]
  },
  {
   "cell_type": "code",
   "execution_count": 6,
   "metadata": {},
   "outputs": [
    {
     "name": "stdout",
     "output_type": "stream",
     "text": [
      "Do you want to be X or O?\n"
     ]
    },
    {
     "name": "stdin",
     "output_type": "stream",
     "text": [
      " X\n"
     ]
    },
    {
     "name": "stdout",
     "output_type": "stream",
     "text": [
      "Player's letter: X, Computer's letter: O\n"
     ]
    }
   ],
   "source": [
    "playerLetter, computerLetter = inputPlayerLetter()\n",
    "print(f\"Player's letter: {playerLetter}, Computer's letter: {computerLetter}\")"
   ]
  },
  {
   "cell_type": "code",
   "execution_count": 7,
   "metadata": {},
   "outputs": [
    {
     "name": "stdout",
     "output_type": "stream",
     "text": [
      "The player will go first\n"
     ]
    }
   ],
   "source": [
    "turn = whoGoesFirst()\n",
    "print(f'The {turn} will go first')"
   ]
  },
  {
   "cell_type": "code",
   "execution_count": 8,
   "metadata": {},
   "outputs": [
    {
     "name": "stdout",
     "output_type": "stream",
     "text": [
      "   |   |  \n",
      "---+---+---\n",
      "   |   |  \n",
      "---+---+---\n",
      "   |   |  \n",
      "What is your next move? (1-9)\n"
     ]
    },
    {
     "name": "stdin",
     "output_type": "stream",
     "text": [
      " 9\n"
     ]
    },
    {
     "name": "stdout",
     "output_type": "stream",
     "text": [
      "   |   | X\n",
      "---+---+---\n",
      "   |   |  \n",
      "---+---+---\n",
      "   |   |  \n",
      "cont ...\n"
     ]
    }
   ],
   "source": [
    "if turn == 'player':\n",
    "    # Player's turn \n",
    "    drawGameBoard(theGameBoard)\n",
    "    \n",
    "    print('What is your next move? (1-9)')\n",
    "    move = int(input())\n",
    "    \n",
    "    makeMove(theGameBoard, playerLetter, move)\n",
    "    \n",
    "    if isWinner(theGameBoard, playerLetter):\n",
    "        drawGameBoard(theGameBoard)\n",
    "        print('You have won the game!')\n",
    "    else:\n",
    "        drawGameBoard(theGameBoard)\n",
    "        turn = 'computer'\n",
    "        print('cont ...')\n",
    "else:\n",
    "    # Computer's turn \n",
    "    makeMove(theGameBoard, computerLetter, 6)\n",
    "    \n",
    "    if isWinner(theGameBoard, computerLetter):\n",
    "        drawGameBoard(theGameBoard)\n",
    "        print('The computer has beaten you! You lose.')\n",
    "    else:\n",
    "        drawGameBoard(theGameBoard)\n",
    "        turn = 'player'\n",
    "        print('cont ...')"
   ]
  },
  {
   "cell_type": "code",
   "execution_count": 9,
   "metadata": {},
   "outputs": [
    {
     "name": "stdout",
     "output_type": "stream",
     "text": [
      "   |   | X\n",
      "---+---+---\n",
      "   |   | O\n",
      "---+---+---\n",
      "   |   |  \n",
      "cont ...\n"
     ]
    }
   ],
   "source": [
    "if turn == 'player':\n",
    "    # Player's turn \n",
    "    drawGameBoard(theGameBoard)\n",
    "    \n",
    "    print('What is your next move? (1-9)')\n",
    "    move = int(input())\n",
    "    \n",
    "    makeMove(theGameBoard, playerLetter, move)\n",
    "    \n",
    "    if isWinner(theGameBoard, playerLetter):\n",
    "        drawGameBoard(theGameBoard)\n",
    "        print('You have won the game!')\n",
    "    else:\n",
    "        drawGameBoard(theGameBoard)\n",
    "        turn = 'computer'\n",
    "        print('cont ...')\n",
    "else:\n",
    "    # Computer's turn \n",
    "    makeMove(theGameBoard, computerLetter, 6)\n",
    "    \n",
    "    if isWinner(theGameBoard, computerLetter):\n",
    "        drawGameBoard(theGameBoard)\n",
    "        print('The computer has beaten you! You lose.')\n",
    "    else:\n",
    "        drawGameBoard(theGameBoard)\n",
    "        turn = 'player'\n",
    "        print('cont ...')"
   ]
  },
  {
   "cell_type": "code",
   "execution_count": null,
   "metadata": {},
   "outputs": [],
   "source": []
  },
  {
   "cell_type": "markdown",
   "metadata": {},
   "source": [
    "Step 5 - Complete "
   ]
  },
  {
   "cell_type": "markdown",
   "metadata": {},
   "source": [
    "@mrizwanse"
   ]
  },
  {
   "cell_type": "markdown",
   "metadata": {},
   "source": [
    "## Happy Learning 😊"
   ]
  }
 ],
 "metadata": {
  "kernelspec": {
   "display_name": "Python 3 (ipykernel)",
   "language": "python",
   "name": "python3"
  },
  "language_info": {
   "codemirror_mode": {
    "name": "ipython",
    "version": 3
   },
   "file_extension": ".py",
   "mimetype": "text/x-python",
   "name": "python",
   "nbconvert_exporter": "python",
   "pygments_lexer": "ipython3",
   "version": "3.9.7"
  }
 },
 "nbformat": 4,
 "nbformat_minor": 4
}
