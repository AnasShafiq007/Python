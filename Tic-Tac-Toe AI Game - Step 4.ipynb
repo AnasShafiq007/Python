{
 "cells": [
  {
   "cell_type": "markdown",
   "metadata": {},
   "source": [
    "# Tic-Tac-Toe AI Game Project"
   ]
  },
  {
   "cell_type": "markdown",
   "metadata": {},
   "source": [
    "Tic-Tac-Toe is normally played with two people. One player is <b>X</b> and the other player is <b>O</b>. Players take turns placing their <b>X</b> or <b>O</b>. If a player gets three of their marks on the board in a row, column, or diagonal, they win. When the game board fills up with neither player winning, the game ends in a draw."
   ]
  },
  {
   "cell_type": "code",
   "execution_count": 1,
   "metadata": {},
   "outputs": [],
   "source": [
    "# Tic-Tac-Toe\n",
    "\n",
    "import random \n",
    "\n",
    "def drawGameBoard(board):\n",
    "    # This function prints out the game board that it was passed.\n",
    "    \n",
    "    '''\"board\" is a list of 10 strings representing the board (ignore index 0).'''\n",
    "    print(f' {board[7]} | {board[8]} | {board[9]}')\n",
    "    print('---+---+---')\n",
    "    print(f' {board[4]} | {board[5]} | {board[6]}')\n",
    "    print('---+---+---')\n",
    "    print(f' {board[1]} | {board[2]} | {board[3]}')\n",
    "    \n",
    "def inputPlayerLetter():\n",
    "    # Lets the player enter which letter they want to be.\n",
    "    '''Returns a list with the player's letter as the first item and the computer's letter as the second.'''\n",
    "    letter = ''\n",
    "    while not (letter == 'X' or letter == 'O'):\n",
    "        print('Do you want to be X or O?')\n",
    "        letter = input().upper()\n",
    "        \n",
    "    # The first element in the list is the player's letter; the second is the computer's letter.\n",
    "    if letter == 'X':\n",
    "        return ['X', 'O']\n",
    "    else:\n",
    "        return ['O', 'X']\n",
    "    \n",
    "def whoGoesFirst():\n",
    "    # Randomly choose which player goes first.\n",
    "    if random.randint(0, 1) == 0:\n",
    "        return 'computer'\n",
    "    else:\n",
    "        return 'player'"
   ]
  },
  {
   "cell_type": "markdown",
   "metadata": {},
   "source": [
    "# Step 4 - Placing a Mark on the Board"
   ]
  },
  {
   "cell_type": "markdown",
   "metadata": {},
   "source": [
    "The <code>makeMove()</code> function is simple:"
   ]
  },
  {
   "cell_type": "code",
   "execution_count": 2,
   "metadata": {},
   "outputs": [],
   "source": [
    "def makeMove(board, letter, move):\n",
    "    board[move] = letter "
   ]
  },
  {
   "cell_type": "markdown",
   "metadata": {},
   "source": [
    "The parameters are <code>board</code>, <code>letter</code>, and <code>move</code>. The variable <code>board</code> is the list with 10 strings that represents the state of the board. The variable <code>letter</code> is the player’s letter (either <code>'X'</code> or <code>'O'</code>). The variable <code>move</code> is the place on the board where that player wants to go (which is an integer from 1 to 9). \n",
    "\n",
    "But wait—in line <code>board[move] = letter</code>, this code seems to change one of the items in the <code>board</code> list to the value in <code>letter</code>. Because this code is in a function, though, the <code>board</code> parameter will be forgotten when the function returns. So shouldn’t the change to <code>board</code> be forgotten as well? \n",
    "\n",
    "Actually, this isn’t the case, because lists are special when you pass them as arguments to functions. You are actually passing a <i><b>reference</b></i> to the list, not the list itself. \n",
    "\n",
    "Let’s learn about the difference between lists and references to lists."
   ]
  },
  {
   "cell_type": "markdown",
   "metadata": {},
   "source": [
    "## List References"
   ]
  },
  {
   "cell_type": "code",
   "execution_count": 3,
   "metadata": {},
   "outputs": [],
   "source": [
    "v1 = 50\n",
    "v2 = v1\n",
    "v1 = 100"
   ]
  },
  {
   "cell_type": "code",
   "execution_count": 4,
   "metadata": {},
   "outputs": [
    {
     "name": "stdout",
     "output_type": "stream",
     "text": [
      "100\n"
     ]
    }
   ],
   "source": [
    "print(v1)"
   ]
  },
  {
   "cell_type": "code",
   "execution_count": 5,
   "metadata": {},
   "outputs": [
    {
     "name": "stdout",
     "output_type": "stream",
     "text": [
      "50\n"
     ]
    }
   ],
   "source": [
    "print(v2)"
   ]
  },
  {
   "cell_type": "markdown",
   "metadata": {},
   "source": [
    "These results make sense from what you know so far. You assign 50 to the <code>v1</code> variable, then assign the value in <code>v1</code> to the variable <code>v2</code>. When you later overwrite <code>v1</code> to 100, this doesn’t affect the value in <code>v2</code>. This is because <code>v1</code> and <code>v2</code> are different variables that store different values. \n",
    "\n",
    "But lists don’t work this way. When you assign a list to a variable, you are actually assigning a list reference to the variable. A <i><b>reference</b></i> is a value that points to the location where some bit of data is stored. Let’s look at some code that will make this easier to understand."
   ]
  },
  {
   "cell_type": "code",
   "execution_count": 6,
   "metadata": {},
   "outputs": [],
   "source": [
    "values1 = [2, 4, 6, 8]\n",
    "values2 = values1\n",
    "values2[1] = 'Python'"
   ]
  },
  {
   "cell_type": "code",
   "execution_count": 7,
   "metadata": {},
   "outputs": [
    {
     "data": {
      "text/plain": [
       "[2, 'Python', 6, 8]"
      ]
     },
     "execution_count": 7,
     "metadata": {},
     "output_type": "execute_result"
    }
   ],
   "source": [
    "values1"
   ]
  },
  {
   "cell_type": "code",
   "execution_count": 8,
   "metadata": {},
   "outputs": [
    {
     "data": {
      "text/plain": [
       "[2, 'Python', 6, 8]"
      ]
     },
     "execution_count": 8,
     "metadata": {},
     "output_type": "execute_result"
    }
   ],
   "source": [
    "values2"
   ]
  },
  {
   "cell_type": "markdown",
   "metadata": {},
   "source": [
    "The code only changed the <code>values2</code> list, but it seems that both the <code>values2</code> and <code>values1</code> lists have changed. This is because the <code>values1</code> variable doesn’t contain the list value itself but rather a reference to the list."
   ]
  },
  {
   "cell_type": "markdown",
   "metadata": {},
   "source": [
    "<i>Dictionaries work the same way. Variables don’t store dictionaries; they store references to dictionaries.</i>"
   ]
  },
  {
   "cell_type": "markdown",
   "metadata": {},
   "source": [
    "## Using List References in <code>makeMove()</code>"
   ]
  },
  {
   "cell_type": "markdown",
   "metadata": {},
   "source": [
    "Let’s go back to the <code>makeMove()</code> function:"
   ]
  },
  {
   "cell_type": "code",
   "execution_count": 9,
   "metadata": {},
   "outputs": [],
   "source": [
    "def makeMove(board, letter, move):\n",
    "    board[move] = letter "
   ]
  },
  {
   "cell_type": "markdown",
   "metadata": {},
   "source": [
    "When a list value is passed for the <code>board</code> parameter, the function’s local variable is really a copy of the reference to the list, not a copy of the list itself. So any changes to <code>board</code> in this function will also be made to the original list. Even though <code>board</code> is a local variable, the <code>makeMove()</code> function modifies the original list.\n",
    "\n",
    "The <code>letter</code> and <code>move</code> parameters are copies of the string and integer values that you pass. Since they are copies of values, if you modify <code>letter</code> or <code>move</code> in this function, the original variables you used when you called <code>makeMove()</code> aren’t modified."
   ]
  },
  {
   "cell_type": "code",
   "execution_count": 10,
   "metadata": {},
   "outputs": [],
   "source": [
    "# Example ..."
   ]
  },
  {
   "cell_type": "code",
   "execution_count": 11,
   "metadata": {},
   "outputs": [
    {
     "name": "stdout",
     "output_type": "stream",
     "text": [
      "   |   |  \n",
      "---+---+---\n",
      "   |   |  \n",
      "---+---+---\n",
      "   |   |  \n"
     ]
    }
   ],
   "source": [
    "theGameBoard = [' '] * 10\n",
    "drawGameBoard(theGameBoard)"
   ]
  },
  {
   "cell_type": "code",
   "execution_count": 12,
   "metadata": {},
   "outputs": [],
   "source": [
    "makeMove(board = theGameBoard, letter = 'X', move = 3)"
   ]
  },
  {
   "cell_type": "code",
   "execution_count": 13,
   "metadata": {},
   "outputs": [
    {
     "name": "stdout",
     "output_type": "stream",
     "text": [
      "   |   |  \n",
      "---+---+---\n",
      "   |   |  \n",
      "---+---+---\n",
      "   |   | X\n"
     ]
    }
   ],
   "source": [
    "drawGameBoard(theGameBoard)"
   ]
  },
  {
   "cell_type": "code",
   "execution_count": 14,
   "metadata": {},
   "outputs": [],
   "source": [
    "makeMove(board = theGameBoard, letter = 'O', move = 7)"
   ]
  },
  {
   "cell_type": "code",
   "execution_count": 15,
   "metadata": {},
   "outputs": [
    {
     "name": "stdout",
     "output_type": "stream",
     "text": [
      " O |   |  \n",
      "---+---+---\n",
      "   |   |  \n",
      "---+---+---\n",
      "   |   | X\n"
     ]
    }
   ],
   "source": [
    "drawGameBoard(theGameBoard)"
   ]
  },
  {
   "cell_type": "code",
   "execution_count": null,
   "metadata": {},
   "outputs": [],
   "source": []
  },
  {
   "cell_type": "code",
   "execution_count": null,
   "metadata": {},
   "outputs": [],
   "source": []
  },
  {
   "cell_type": "markdown",
   "metadata": {},
   "source": [
    "# Starting the Game ..."
   ]
  },
  {
   "cell_type": "code",
   "execution_count": 16,
   "metadata": {},
   "outputs": [],
   "source": [
    "# Tic-Tac-Toe\n",
    "\n",
    "import random \n",
    "\n",
    "def drawGameBoard(board):\n",
    "    # This function prints out the game board that it was passed.\n",
    "    \n",
    "    '''\"board\" is a list of 10 strings representing the board (ignore index 0).'''\n",
    "    print(f' {board[7]} | {board[8]} | {board[9]}')\n",
    "    print('---+---+---')\n",
    "    print(f' {board[4]} | {board[5]} | {board[6]}')\n",
    "    print('---+---+---')\n",
    "    print(f' {board[1]} | {board[2]} | {board[3]}')\n",
    "    \n",
    "def inputPlayerLetter():\n",
    "    # Lets the player enter which letter they want to be.\n",
    "    '''Returns a list with the player's letter as the first item and the computer's letter as the second.'''\n",
    "    letter = ''\n",
    "    while not (letter == 'X' or letter == 'O'):\n",
    "        print('Do you want to be X or O?')\n",
    "        letter = input().upper()\n",
    "        \n",
    "    # The first element in the list is the player's letter; the second is the computer's letter.\n",
    "    if letter == 'X':\n",
    "        return ['X', 'O']\n",
    "    else:\n",
    "        return ['O', 'X']\n",
    "    \n",
    "def whoGoesFirst():\n",
    "    # Randomly choose which player goes first.\n",
    "    if random.randint(0, 1) == 0:\n",
    "        return 'computer'\n",
    "    else:\n",
    "        return 'player'\n",
    "    \n",
    "def makeMove(board, letter, move):\n",
    "    board[move] = letter "
   ]
  },
  {
   "cell_type": "code",
   "execution_count": 17,
   "metadata": {},
   "outputs": [
    {
     "name": "stdout",
     "output_type": "stream",
     "text": [
      "Welcome to Tic-Tac-Toe AI Game!\n",
      "   |   |  \n",
      "---+---+---\n",
      "   |   |  \n",
      "---+---+---\n",
      "   |   |  \n"
     ]
    }
   ],
   "source": [
    "print('Welcome to Tic-Tac-Toe AI Game!')\n",
    "\n",
    "# Reset the game board.\n",
    "theGameBoard = [' '] * 10\n",
    "drawGameBoard(theGameBoard)"
   ]
  },
  {
   "cell_type": "code",
   "execution_count": 18,
   "metadata": {},
   "outputs": [
    {
     "name": "stdout",
     "output_type": "stream",
     "text": [
      "Do you want to be X or O?\n"
     ]
    },
    {
     "name": "stdin",
     "output_type": "stream",
     "text": [
      " O\n"
     ]
    },
    {
     "name": "stdout",
     "output_type": "stream",
     "text": [
      "Player's letter: O, Computer's letter: X\n"
     ]
    }
   ],
   "source": [
    "playerLetter, computerLetter = inputPlayerLetter()\n",
    "print(f\"Player's letter: {playerLetter}, Computer's letter: {computerLetter}\")"
   ]
  },
  {
   "cell_type": "code",
   "execution_count": 22,
   "metadata": {},
   "outputs": [
    {
     "name": "stdout",
     "output_type": "stream",
     "text": [
      "The computer will go first\n"
     ]
    }
   ],
   "source": [
    "turn = whoGoesFirst()\n",
    "print(f'The {turn} will go first')"
   ]
  },
  {
   "cell_type": "code",
   "execution_count": 23,
   "metadata": {},
   "outputs": [
    {
     "name": "stdout",
     "output_type": "stream",
     "text": [
      "   |   |  \n",
      "---+---+---\n",
      "   |   | X\n",
      "---+---+---\n",
      "   |   | O\n"
     ]
    }
   ],
   "source": [
    "if turn == 'player':\n",
    "    # Player's turn \n",
    "    drawGameBoard(theGameBoard)\n",
    "    \n",
    "    print('What is your next move? (1-9)')\n",
    "    move = int(input())\n",
    "    \n",
    "    makeMove(theGameBoard, playerLetter, move)\n",
    "    drawGameBoard(theGameBoard)\n",
    "else:\n",
    "    # Computer's turn \n",
    "    makeMove(theGameBoard, computerLetter, 6)\n",
    "    drawGameBoard(theGameBoard)"
   ]
  },
  {
   "cell_type": "code",
   "execution_count": null,
   "metadata": {},
   "outputs": [],
   "source": []
  },
  {
   "cell_type": "markdown",
   "metadata": {},
   "source": [
    "Step 4 - Complete "
   ]
  },
  {
   "cell_type": "markdown",
   "metadata": {},
   "source": [
    "@mrizwanse"
   ]
  },
  {
   "cell_type": "markdown",
   "metadata": {},
   "source": [
    "## Happy Learning 😊"
   ]
  }
 ],
 "metadata": {
  "kernelspec": {
   "display_name": "Python 3 (ipykernel)",
   "language": "python",
   "name": "python3"
  },
  "language_info": {
   "codemirror_mode": {
    "name": "ipython",
    "version": 3
   },
   "file_extension": ".py",
   "mimetype": "text/x-python",
   "name": "python",
   "nbconvert_exporter": "python",
   "pygments_lexer": "ipython3",
   "version": "3.9.7"
  }
 },
 "nbformat": 4,
 "nbformat_minor": 4
}
